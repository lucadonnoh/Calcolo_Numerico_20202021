{
  "nbformat": 4,
  "nbformat_minor": 0,
  "metadata": {
    "colab": {
      "name": "lab2_Risoluzione_di_sistemi_lineari.ipynb",
      "provenance": [],
      "collapsed_sections": []
    },
    "kernelspec": {
      "name": "python3",
      "display_name": "Python 3"
    }
  },
  "cells": [
    {
      "cell_type": "code",
      "metadata": {
        "id": "aSof6FEzeg_w",
        "cellView": "form",
        "outputId": "53cc0c68-df12-459a-c91d-8b7909a62290",
        "colab": {
          "base_uri": "https://localhost:8080/",
          "height": 36
        }
      },
      "source": [
        "# @title <h1>Lab 2 : Risoluzione di sistemi lineari  </h1>\n",
        "%%html\n",
        "<marquee style='width: 50%; color: red;'><b>Questi esercizi possono essere chiesto all'esame!</b></marquee>"
      ],
      "execution_count": 6,
      "outputs": [
        {
          "output_type": "error",
          "ename": "SyntaxError",
          "evalue": "invalid syntax (<ipython-input-6-4f853167c771>, line 3)",
          "traceback": [
            "\u001b[0;36m  File \u001b[0;32m\"<ipython-input-6-4f853167c771>\"\u001b[0;36m, line \u001b[0;32m3\u001b[0m\n\u001b[0;31m    <marquee style='width: 50%; color: red;'><b>Questi esercizi possono essere chiesto all'esame!</b></marquee>\u001b[0m\n\u001b[0m    ^\u001b[0m\n\u001b[0;31mSyntaxError\u001b[0m\u001b[0;31m:\u001b[0m invalid syntax\n"
          ]
        }
      ]
    },
    {
      "cell_type": "markdown",
      "metadata": {
        "id": "SSRBr7mpk02z"
      },
      "source": [
        "# **MATRICI e NORME**\n",
        "\n",
        "---\n",
        "Considera la matrice A\n",
        "\\begin{equation*}\n",
        "A = \n",
        "\\begin{pmatrix}\n",
        "1 & 2  \\\\\n",
        "0.499  & 1.001  \n",
        "\\end{pmatrix}\n",
        "\\end{equation*}\n",
        "\n",
        "* Calcola la norma 1, la norma 2, la norma Frobenius e la norma infinito di A con ${\\tt numpy.linalg.norm()}$ (guarda l'help della funzione).\n",
        "* Calcola il numero di condizionamento di A con ${\\tt numpy.linalg.cond()}$ (guarda l'help della funzione).\n",
        "* Considera il vettore colonna $x = (1,1)^T$ e calcola il corrispondente termine noto $b$ per il sistema lineare $Ax = b$.\n",
        "* Considera ora il vettore ${\\tilde b} = (3, 1.4985)^T$ e verifica che ${\\tilde x} = (2, 0.5)^T$ è soluzione del sistema $A{\\tilde x} = {\\tilde b}$\n",
        "* Calcola la norma 2 della perturbazione sui termini noti $ \\Delta_b  = \\| b - {\\tilde b} \\|_2$ e la norma 2 della perturbazione sulle soluzioni $ \\Delta_x = \\| x - {\\tilde x} \\|_2$. Confronta $\\Delta_b$ con $\\Delta_x$.\n"
      ]
    },
    {
      "cell_type": "code",
      "metadata": {
        "id": "cX0CNsHix76N"
      },
      "source": [
        "import numpy as np\n",
        "import sys\n",
        "\n",
        "# https://numpy.org/doc/stable/reference/"
      ],
      "execution_count": 7,
      "outputs": []
    },
    {
      "cell_type": "code",
      "metadata": {
        "id": "ezOEIaUMVr-0"
      },
      "source": [
        "help(np.linalg) # View source\n",
        "\n",
        "# help (np.linalg.norm)\n",
        "# help (np.linalg.cond)"
      ],
      "execution_count": null,
      "outputs": []
    },
    {
      "cell_type": "code",
      "metadata": {
        "id": "erNi-JXPt95c",
        "outputId": "80bcb886-82b7-4618-9c55-f98eea194db8",
        "colab": {
          "base_uri": "https://localhost:8080/",
          "height": 469
        }
      },
      "source": [
        "A = np.array( [[1,2], [0.499, 1.001]])\n",
        "print ('Norme di A:')\n",
        "\n",
        "norm1 = np.linalg.norm(A, ord=1)\n",
        "norm2 = np.linalg.norm(A, ord=2)\n",
        "normfro = np.linalg.norm(A, ord='fro')\n",
        "norminf = np.linalg.norm(A, ord=np.inf)\n",
        "\n",
        "print ('Norma1 = ', norm1 , '\\n')\n",
        "print ('Norma2 = ', norm2 , '\\n')\n",
        "print ('Norma3 = ', normfro , '\\n')\n",
        "print ('Norma infinito = ', norminf , '\\n')\n",
        "\n",
        "cond1 = np.linalg.cond(A, p=1)\n",
        "cond2 = np.linalg.cond(A, p=2)\n",
        "condfro = np.linalg.cond(A, p='fro')\n",
        "condinf = np.linalg.cond(A, p=np.inf)\n",
        "\n",
        "print('K(A)_1 =', cond1, '\\n')\n",
        "print('K(A)_2 =', cond2, '\\n')\n",
        "print('K(A)_fro =', condfro, '\\n')\n",
        "print('K(A)_inf =', condinf, '\\n')\n",
        "\n",
        "# x = np.array([[1],[1]]);\n",
        "x = np.ones((2, 1))\n",
        "b = A.dot(x)\n",
        "print(b, '\\n')\n",
        "\n",
        "btilde = np.array([[3], [1.4985]])\n",
        "xtilde = np.array([[2],[0.5]])\n",
        "print ('A*xtilde = \\n', A.dot(xtilde) , '\\n')\n",
        "\n",
        "deltax = np.linalg.norm(x-xtilde, ord=2)\n",
        "deltab = np.linalg.norm(b-btilde, ord=2)\n",
        "\n",
        "print ('delta x = ', deltax)\n",
        "print ('delta b = ', deltab)"
      ],
      "execution_count": 9,
      "outputs": [
        {
          "output_type": "stream",
          "name": "stdout",
          "text": [
            "Norme di A:\nNorma1 =  3.001 \n\nNorma2 =  2.500200104037774 \n\nNorma3 =  2.5002003919686118 \n\nNorma infinito =  3.0 \n\nK(A)_1 = 3001.0000000001082 \n\nK(A)_2 = 2083.6668534103555 \n\nK(A)_fro = 2083.6673333334084 \n\nK(A)_inf = 3001.0000000001082 \n\n[[3. ]\n [1.5]] \n\nA*xtilde = \n [[3.    ]\n [1.4985]] \n\ndelta x =  1.118033988749895\ndelta b =  0.0015000000000000568\n"
          ]
        }
      ]
    },
    {
      "cell_type": "markdown",
      "metadata": {
        "id": "Hfxuot-Me71-"
      },
      "source": [
        "# **METODI DIRETTI**\n",
        "\n",
        "---\n",
        "\n",
        "La soluzione viene calcolata in un numero finito di passi, modificando la matrice del problema in modo da rendere piú agevole il calcolo della soluzione.\n",
        "\n",
        "*   Con matrici triangolari: metodi di sostituzione;\n",
        "*   Con qualsiasi matrice: metodo di eliminazione di Gauss;\n",
        "*   Con matrici simmetriche: metodo di Cholesky.\n"
      ]
    },
    {
      "cell_type": "markdown",
      "metadata": {
        "id": "42UwPIVVfLdz"
      },
      "source": [
        "# Esercizio 1\n",
        "\n",
        "Considera la matrice\n",
        "\\begin{equation*}\n",
        "A = \n",
        "\\begin{pmatrix}\n",
        "2 & -1 & 1 & -2 \\\\\n",
        "0 & 2  & 0 & -1 \\\\\n",
        "1 & 0  &-2 &  1 \\\\\n",
        "0 & 2  & 1 &  1  \n",
        "\\end{pmatrix}\n",
        "\\end{equation*}\n",
        "\n",
        "1. Crea il problema test in cui il vettore della soluzione esatta è $ x = (1, 1, 1, 1)^T$ e il vettore termine noto è $b = Ax$.\n",
        "2. Guarda l'help del modulo ${\\tt scipy.linalg.decomp\\_lu}$ e usa una delle sue funzioni per calcolare la fattorizzazione LU di A con pivolting. Verifica la correttezza dell'output.\n",
        "3. Risolvi il sistema lineare con la funzione ${\\tt lu\\_solve}$ del modulo decomp_lu oppure con ${\\tt scipy.linalg.solve\\_triangular}$.\n",
        "4. Visualizza la soluzione calcolata e valutane la correttezza.\n",
        "\n"
      ]
    },
    {
      "cell_type": "code",
      "metadata": {
        "id": "AQO_fHCN_wgF"
      },
      "source": [
        "#this only affects numpy arrays, not scalars\n",
        "float_formatter = \"{:.2f}\".format\n",
        "np.set_printoptions(formatter={'float_kind':float_formatter})  # oppure np.set_printoptions(precision=4)"
      ],
      "execution_count": null,
      "outputs": []
    },
    {
      "cell_type": "code",
      "metadata": {
        "id": "oIIDcbixnm5L",
        "outputId": "ee9d0bb9-9278-4969-c3bb-404d1dc610fa",
        "colab": {
          "base_uri": "https://localhost:8080/",
          "height": 295
        }
      },
      "source": [
        "# 1. creazione del problema test\n",
        "\n",
        "A = np.array ([ [2,-1, 1,-2], [0, 2, 0, -1], [1, 0, -2, 1], [0, 2, 1, 1]  ], dtype=np.float)\n",
        "\n",
        "print (A)\n",
        "\n",
        "cond1 = np.linalg.cond(A, p=1)\n",
        "cond2 = np.linalg.cond(A, p=2)\n",
        "condfro = np.linalg.cond(A, p='fro')\n",
        "condinf = np.linalg.cond(A, p=np.inf)\n",
        "\n",
        "print('K(A)_1 =', cond1, '\\n')\n",
        "print('K(A)_2 =', cond2, '\\n')\n",
        "print('K(A)_fro =', condfro, '\\n')\n",
        "print('K(A)_inf =', condinf, '\\n')\n",
        "\n",
        "n = 4\n",
        "\n",
        "x = np.ones((4,1))\n",
        "b = A.dot(x)\n",
        "\n",
        "print(b)\n"
      ],
      "execution_count": null,
      "outputs": [
        {
          "output_type": "stream",
          "text": [
            "[[2.00 -1.00 1.00 -2.00]\n",
            " [0.00 2.00 0.00 -1.00]\n",
            " [1.00 0.00 -2.00 1.00]\n",
            " [0.00 2.00 1.00 1.00]]\n",
            "K(A)_1 = 5.517241379310345 \n",
            "\n",
            "K(A)_2 = 2.5548887723918345 \n",
            "\n",
            "K(A)_fro = 5.118338018008131 \n",
            "\n",
            "K(A)_inf = 6.206896551724137 \n",
            "\n",
            "[[0.00]\n",
            " [1.00]\n",
            " [0.00]\n",
            " [4.00]]\n"
          ],
          "name": "stdout"
        }
      ]
    },
    {
      "cell_type": "code",
      "metadata": {
        "id": "pw-4PWhjMWcU"
      },
      "source": [
        "import scipy\n",
        "# help (scipy)\n",
        "\n",
        "# DESCRIPTION\n",
        "#    SciPy: A scientific computing package for Python\n",
        "#    Documentation is available in the docstrings and online at https://docs.scipy.org.\n",
        "# https://docs.scipy.org/doc/scipy/reference/"
      ],
      "execution_count": 10,
      "outputs": []
    },
    {
      "cell_type": "code",
      "metadata": {
        "id": "PRpV2rUNEmAS"
      },
      "source": [
        "import scipy.linalg\n",
        "# help (scipy.linalg)\n",
        "import scipy.linalg.decomp_lu as LUdec # è un module, con ['lu', 'lu_solve', 'lu_factor']\n",
        "# help (LUdec)"
      ],
      "execution_count": 11,
      "outputs": []
    },
    {
      "cell_type": "code",
      "metadata": {
        "id": "36tbptA28qfK",
        "outputId": "bd66b886-bb6d-4a9d-97f1-15f3a38b311d",
        "colab": {
          "base_uri": "https://localhost:8080/",
          "height": 104
        }
      },
      "source": [
        "# 2. fattorizzazione lu\n",
        "\n",
        "lu, piv = LUdec.lu_factor(A)\n",
        "print(lu)\n",
        "print(piv)"
      ],
      "execution_count": null,
      "outputs": [
        {
          "output_type": "stream",
          "text": [
            "[[ 2.   -1.    1.   -2.  ]\n",
            " [ 0.    2.    0.   -1.  ]\n",
            " [ 0.5   0.25 -2.5   2.25]\n",
            " [ 0.    1.   -0.4   2.9 ]]\n",
            "[0 1 2 3]\n"
          ],
          "name": "stdout"
        }
      ]
    },
    {
      "cell_type": "code",
      "metadata": {
        "id": "j8nqvKFo_Eoa",
        "outputId": "430b4414-92e9-406b-9e85-bdd326512945",
        "colab": {
          "base_uri": "https://localhost:8080/",
          "height": 86
        }
      },
      "source": [
        " # 3. risoluzione\n",
        "# Ax = b   <--->  PLUx = b  <--->  LUx = Pb  <--->  Ly=Pb & Ux=y\n",
        "\n",
        "my_x = LUdec.lu_solve((lu,piv),b)\n",
        "print(my_x)"
      ],
      "execution_count": null,
      "outputs": [
        {
          "output_type": "stream",
          "text": [
            "[[1.]\n",
            " [1.]\n",
            " [1.]\n",
            " [1.]]\n"
          ],
          "name": "stdout"
        }
      ]
    },
    {
      "cell_type": "code",
      "metadata": {
        "id": "KSCg7hsQ8tqH",
        "outputId": "ea5353a5-2a7a-4c9a-f38f-e64d0fbaa5b7",
        "colab": {
          "base_uri": "https://localhost:8080/",
          "height": 139
        }
      },
      "source": [
        "# 4. verifica \n",
        "print('\\nSoluzione calcolata: ')\n",
        "for i in range(n):\n",
        "    print('%0.15e' %my_x[i])\n",
        "\n",
        "print ('%0.15e' %np.linalg.norm(x-my_x, 2))"
      ],
      "execution_count": null,
      "outputs": [
        {
          "output_type": "stream",
          "text": [
            "\n",
            "Soluzione calcolata: \n",
            "1.000000000000000e+00\n",
            "1.000000000000000e+00\n",
            "1.000000000000000e+00\n",
            "1.000000000000000e+00\n",
            "0.000000000000000e+00\n"
          ],
          "name": "stdout"
        }
      ]
    },
    {
      "cell_type": "code",
      "metadata": {
        "id": "zaayBeOhnZdh",
        "outputId": "e738e4be-330e-4f78-9296-539e280d3025",
        "colab": {
          "base_uri": "https://localhost:8080/",
          "height": 191
        }
      },
      "source": [
        "# IMPLEMENTAZIONE ALTERNATIVA \n",
        "\n",
        "# fattorizzazione\n",
        "P,L,U = LUdec.lu(A)\n",
        "\n",
        "# risoluzione di    Ax = b   <--->  PLUx = b  <--->  PLy=b & Ux=y  <--->  Ly=Pb & Ux=y\n",
        "y = scipy.linalg.solve_triangular(np.matmul(P,L),b)\n",
        "my_x = scipy.linalg.solve_triangular(U,y)\n",
        "\n",
        "# verifica\n",
        "print('\\nSoluzione calcolata: ')\n",
        "for i in range(n):\n",
        "    print('%0.2f' %my_x[i])"
      ],
      "execution_count": null,
      "outputs": [
        {
          "output_type": "stream",
          "text": [
            "[[1.00 0.00 0.00 0.00]\n",
            " [0.00 1.00 0.00 0.00]\n",
            " [0.50 0.25 1.00 0.00]\n",
            " [0.00 1.00 -0.40 1.00]]\n",
            "\n",
            "Soluzione calcolata: \n",
            "1.35\n",
            "1.19\n",
            "1.24\n",
            "1.38\n"
          ],
          "name": "stdout"
        }
      ]
    },
    {
      "cell_type": "markdown",
      "metadata": {
        "id": "PBOTf82qO04J"
      },
      "source": [
        "# Esercizio 2\n",
        "\n",
        "Ripeti l'esercizio 1 sulla matrice di Hilbert, creata con ${\\tt A = scipy.linalg.hilbert(5)}$. In particolare:\n",
        "* calcola il numero di condizionamento di A;\n",
        "* guarda alla matrice di permutazione."
      ]
    },
    {
      "cell_type": "code",
      "metadata": {
        "id": "WY3W63roo682",
        "outputId": "0b0a1323-5ff5-49e7-cd85-f0ca1ec06b36",
        "colab": {
          "base_uri": "https://localhost:8080/",
          "height": 295
        }
      },
      "source": [
        "# IMPLEMENTAZIONE ALTERNATIVA \n",
        "A = scipy.linalg.hilbert(5)\n",
        "cond1 = np.linalg.cond(A, p=1)\n",
        "cond2 = np.linalg.cond(A, p=2)\n",
        "condfro = np.linalg.cond(A, p='fro')\n",
        "condinf = np.linalg.cond(A, p=np.inf)\n",
        "\n",
        "print('K(A)_1 =', cond1, '\\n')\n",
        "print('K(A)_2 =', cond2, '\\n')\n",
        "print('K(A)_fro =', condfro, '\\n')\n",
        "print('K(A)_inf =', condinf, '\\n')\n",
        "\n",
        "n = 5\n",
        "\n",
        "x = np.ones((n,1))\n",
        "b = A.dot(x)\n",
        "\n",
        "# fattorizzazione\n",
        "# P,L,U = LUdec.lu(A) boh non va\n",
        "lu, piv = LUdec.lu_factor(A)\n",
        "\n",
        "# Ax = b   <--->  PLUx = b  <--->  LUx = Pb  <--->  Ly=Pb & Ux=y\n",
        "my_x = LUdec.lu_solve((lu,piv),b)\n",
        "\n",
        "# verifica\n",
        "print('\\nSoluzione calcolata: ')\n",
        "for i in range(n):\n",
        "    print('%0.2f' %my_x[i])\n",
        "\n",
        "print('%0.15f' %np.linalg.norm(x-my_x, 2))"
      ],
      "execution_count": null,
      "outputs": [
        {
          "output_type": "stream",
          "text": [
            "K(A)_1 = 943656.0000063396 \n",
            "\n",
            "K(A)_2 = 476607.25024259434 \n",
            "\n",
            "K(A)_fro = 480849.11699795065 \n",
            "\n",
            "K(A)_inf = 943656.0000063627 \n",
            "\n",
            "\n",
            "Soluzione calcolata: \n",
            "1.00\n",
            "1.00\n",
            "1.00\n",
            "1.00\n",
            "1.00\n",
            "0.000000000003763\n"
          ],
          "name": "stdout"
        }
      ]
    },
    {
      "cell_type": "markdown",
      "metadata": {
        "id": "0prxE9uKSP4R"
      },
      "source": [
        "# Esercizio 3\n",
        "Scrivi le due funzioni ${\\tt LTrisol()}$ e ${\\tt UTrisol()}$ per implementare i metodi di sostituzione all'avanti e all'indietro, poi:\n",
        "* usa la fattorizzazione ${\\tt P, L, U = LUdec.lu(A) }$ sulla matrice degli esercizi precedenti;\n",
        "* risolvi i sistemi triangolari usando la tue funzioni.\n",
        "\n"
      ]
    },
    {
      "cell_type": "code",
      "metadata": {
        "id": "KA_rVKCDZ0oD",
        "outputId": "9b50708e-5b53-428a-b02e-f31c7b9557e2",
        "colab": {
          "base_uri": "https://localhost:8080/",
          "height": 139
        }
      },
      "source": [
        "def LTrisol(L,b):\n",
        "  n=b.size\n",
        "  x=np.zeros(n)\n",
        "  x[0]=  b[0]/L[0,0];\n",
        "  for i in range(1,n):\n",
        "    x[i]=(b[i]-np.dot(L[i,0:i],x[0:i]))/L[i,i];\n",
        "  return x\n",
        "\n",
        "def UTrisol(U,b):\n",
        "  n=b.size\n",
        "  x=np.zeros(n)\n",
        "  x[n-1]=  b[n-1]/U[n-1,n-1];\n",
        "  for i in range(n-1,-1,-1):\n",
        "    x[i]=(b[i]-np.dot(U[i,i+1:n],x[i+1:n]))/U[i,i];\n",
        "  return x\n",
        "\n",
        "A = np.array ([ [2,-1, 1,-2], [0, 2, 0, -1], [1, 0, -2, 1], [0, 2, 1, 1]  ], dtype=np.float)\n",
        "n = np.shape(A)[0]\n",
        "x = np.ones((4,1))\n",
        "b = A.dot(x)\n",
        "\n",
        "P,L,U = LUdec.lu(A)\n",
        "\n",
        "\n",
        "# Ax = b   <--->  PLUx = b  <--->  LUx = Pb  <--->  Ly=Pb & Ux=y\n",
        "y = LTrisol(L, P.dot(b))\n",
        "my_x = UTrisol(U,y)\n",
        "\n",
        "print('\\nSoluzione calcolata:' )\n",
        "for i in range(n):\n",
        "    print('%0.2f' %my_x[i])\n",
        "\n",
        "print(\"error is: \",'%0.15f' %np.linalg.norm(x-my_x, 2))"
      ],
      "execution_count": 14,
      "outputs": [
        {
          "output_type": "stream",
          "name": "stdout",
          "text": [
            "\nSoluzione calcolata:\n1.00\n1.00\n1.00\n1.00\nerror is:  0.000000000000000\n"
          ]
        }
      ]
    },
    {
      "cell_type": "markdown",
      "metadata": {
        "id": "Dpz3I1_sOkDf"
      },
      "source": [
        "# Esercizio 4\n",
        "\n",
        "Comprendere i seguenti codici che implementano la fattorizzazione LU senza pivoting e la fattorizzazione LL di Cholesky."
      ]
    },
    {
      "cell_type": "code",
      "metadata": {
        "id": "cllOy8C2Oz_l"
      },
      "source": [
        "# LU senza pivoting\n",
        "\n",
        "def LU_fact_NOpiv(A):\n",
        "  a = np.copy(A)\n",
        "  n=a.shape[1]\n",
        "  \n",
        "  for k in range(n-1):\n",
        "    if a[k, k] != 0:\n",
        "      a[k+1:, k] = a[k+1:, k]/a[k,k]\n",
        "      \n",
        "      a1 = np.expand_dims(a[k+1:, k], 1)\n",
        "      a2 = np.expand_dims(a[k, k+1:], 0)\n",
        "      a[k+1:, k+1:] = a[k+1:, k+1:] - (a1 * a2)\n",
        "  return a"
      ],
      "execution_count": null,
      "outputs": []
    },
    {
      "cell_type": "code",
      "metadata": {
        "id": "DOaBfWhbO28_"
      },
      "source": [
        "# Cholesky\n",
        "\n",
        "def cholesky(A):\n",
        "  \n",
        "  n=A.shape[1]\n",
        "  L=np.zeros((n,n))\n",
        "\n",
        "  for j in range(0 ,n):\n",
        "    for i in range(0,j):\n",
        "      L[j,i]=(A[i,j]-np.dot(L[i,0:i].T,L[j,0:i]))/L[i,i]\n",
        "      \n",
        "    if ((A[j,j]-np.dot(L[0:j,j].T,L[0:j,j]))>0):\n",
        "        L[j,j]=np.sqrt(A[j,j]-np.dot(L[j,0:j].T,L[j,0:j]))\n",
        "         \n",
        "    else:\n",
        "        return ('A non è definita positiva')\n",
        "  \n",
        "  return L"
      ],
      "execution_count": null,
      "outputs": []
    },
    {
      "cell_type": "markdown",
      "metadata": {
        "id": "Zr_cTraoPf_x"
      },
      "source": [
        "# Esercizio 5\n",
        "Calcola la fattorizzazione di Choleski sulla matrice A generata come\n",
        "\n",
        "${\\tt A = np.array ([ [3,-1, 1,-2], [0, 2, 5, -1], [1, 0, -7, 1], [0, 2, 1, 1]  ], dtype=np.float)}$\n",
        "${\\tt A = np.matmul( A, np.transpose(A) )}$\n",
        "\n",
        "usando la funzione ${\\tt np.linalg.cholesky}$ o quella dell'esercizio precedente.\n",
        "* Verifica la correttezza della fattorizzazione.\n",
        "* Risolvi il sistema lineare Ax = b dove ${\\tt x = (1, 1, 1, 1)^T}$ . "
      ]
    },
    {
      "cell_type": "code",
      "metadata": {
        "id": "9GMh8LZ1eBIm"
      },
      "source": [
        "help (np.linalg.cholesky)"
      ],
      "execution_count": null,
      "outputs": []
    },
    {
      "cell_type": "code",
      "metadata": {
        "id": "Zr1_Xg3r-or9"
      },
      "source": [
        "A = np.array ([ [3,-1, 1,-2], [0, 2, 5, -1], [1, 0, -7, 1], [0, 2, 1, 1]  ], dtype=np.float)\n",
        "A = np.matmul( A, np.transpose(A) )\n",
        "print(A, \"\\n\")\n",
        "#matrice generata simmetrica definita positiva\n",
        "\n",
        "#controllo correttezza\n",
        "L = np.linalg.cholesky(A)\n",
        "print(L, \"\\n\")\n",
        "A2 = np.dot(L,np.transpose(L))\n",
        "print(A2, \"\\n\")\n",
        "\n",
        "#Risolvo sistema lineare\n",
        "x = np.ones((4,1))\n",
        "b = np.dot(A,x)\n",
        "print(b)\n",
        "\n",
        "#Ax=B  <=> LL^t x = b <=> Ly=b & y=L^t*x  <=> L^t * x = y\n",
        "y = LTrisol(L, b);\n",
        "my_x = UTrisol(L.T, y);\n",
        "\n",
        "print('\\nSoluzione calcolata:' )\n",
        "for i in range(n):\n",
        "    print('%0.15f' %my_x[i])\n",
        "\n",
        "print(\"error is: \",'%0.15e' %np.linalg.norm(x-my_x, 2))"
      ],
      "execution_count": 20,
      "outputs": [
        {
          "output_type": "stream",
          "name": "stdout",
          "text": [
            "[[ 15.   5.  -6.  -3.]\n [  5.  30. -36.   8.]\n [ -6. -36.  51.  -6.]\n [ -3.   8.  -6.   6.]] \n\n[[ 3.87298335  0.          0.          0.        ]\n [ 1.29099445  5.32290647  0.          0.        ]\n [-1.54919334 -6.38748777  2.79284801  0.        ]\n [-0.77459667  1.69080559  1.28900677  0.93789019]] \n\n[[ 15.   5.  -6.  -3.]\n [  5.  30. -36.   8.]\n [ -6. -36.  51.  -6.]\n [ -3.   8.  -6.   6.]] \n\n[[11.]\n [ 7.]\n [ 3.]\n [ 5.]]\n\nSoluzione calcolata:\n1.000000000000001\n0.999999999999998\n0.999999999999999\n1.000000000000002\nerror is:  6.742262948251187e-15\n"
          ]
        }
      ]
    },
    {
      "cell_type": "markdown",
      "metadata": {
        "id": "tsGUuIFCVBgs"
      },
      "source": [
        "# **METODI INDIRETTI**\n",
        "\n",
        "---\n",
        "\n",
        "Calcolo di una soluzione come limite di una successione di approssimazioni $x_k$, senza modificare la struttura della matrice A. Sono metodi adatti per sistemi di grandi dimensioni con matrici sparse (pochi elementi non nulli).\n",
        "![metodiiterativi.png](data:image/png;base64,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)"
      ]
    },
    {
      "cell_type": "markdown",
      "metadata": {
        "id": "DEk1bwynTFDL"
      },
      "source": [
        "# Esercizio 6\n",
        "\n",
        "Scrivi le funzioni \n",
        "${\\tt Jacobi(A,b,x0,maxit,tol, xTrue)}$ e ${\\tt GaussSeidel(A,b,x0,maxit,tol, xTrue)}$\n",
        "per implementare i metodi di Jacobi e di Gauss Seidel per la risoluzione di sistemi lineari con matrice a diagonale dominante. In particolare:\n",
        "* ${\\tt x0}$ sia l'iterato iniziale;\n",
        "* la condizione d'arresto sia dettata dal numero massimo di iterazioni consentite ${\\tt maxit}$ e dalla tolleranza ${\\tt tol}$ sulla differenza relativa fra due iterati successivi;\n",
        "* si preveda in input la soluzione esatta ${\\tt xTrue}$ per calcolare l'errore relativo ad ogni iterazione.\n",
        "\n",
        "Entrambe le funzioni restituiscano in output:\n",
        "* la soluzione ${\\tt x}$;\n",
        "* il numero ${\\tt k}$ di iterazioni effettuate;\n",
        "* il vettore ${\\tt relErr}$ di tutti gli errori relativi.\n"
      ]
    },
    {
      "cell_type": "code",
      "metadata": {
        "id": "xdT0qYatTTcK"
      },
      "source": [
        "def Jacobi(A,b,x0,maxit,tol, xTrue):\n",
        "  n=np.size(x0)     \n",
        "  ite=0\n",
        "  x= np.copy(x0)\n",
        "  norma_it=1+tol\n",
        "  relErr=np.zeros((maxit, 1))\n",
        "  relErr[0]=np.linalg.norm(xTrue-x0)\n",
        "  while (ite<maxit-1 and norma_it>tol):\n",
        "    x_old=np.copy(x)\n",
        "    for i in range(0,n):\n",
        "      x[i]=(b[i]-np.dot(A[i,0:i],x_old[0:i])-np.dot(A[i,i+1:n],x_old[i+1:n]))/A[i,i]  \n",
        "    ite=ite+1\n",
        "    norma_it=np.linalg.norm(x-x_old)/np.linalg.norm(x)\n",
        "    relErr[ite]=np.linalg.norm(xTrue-x)\n",
        "  relErr=relErr[:ite]  \n",
        "  return [x, ite, relErr]"
      ],
      "execution_count": 29,
      "outputs": []
    },
    {
      "cell_type": "code",
      "metadata": {
        "id": "vWCs7hgtPvhc"
      },
      "source": [
        "def GaussSeidel(A,b,x0,maxit,tol, xTrue):\n",
        "  n=np.size(x0)     \n",
        "  ite=0\n",
        "  x= np.copy(x0)\n",
        "  norma_it=1+tol\n",
        "  relErr=np.zeros((maxit, 1))\n",
        "  relErr[0]=np.linalg.norm(xTrue-x0)\n",
        "  while (ite<maxit-1 and norma_it>tol):\n",
        "    x_old=np.copy(x)\n",
        "    for i in range(0,n):\n",
        "      x[i]=(b[i]-np.dot(A[i,0:i],x[0:i])-np.dot(A[i,i+1:n],x_old[i+1:n]))/A[i,i]  \n",
        "    ite=ite+1\n",
        "    norma_it=np.linalg.norm(x-x_old)/np.linalg.norm(x)\n",
        "    relErr[ite]=np.linalg.norm(xTrue-x)\n",
        "  relErr=relErr[:ite]  \n",
        "  return [x, ite, relErr]"
      ],
      "execution_count": 30,
      "outputs": []
    },
    {
      "cell_type": "markdown",
      "metadata": {
        "id": "oIrtsqNnTUQN"
      },
      "source": [
        "#Esercizio 7\n",
        "Testa le due funzioni dell'esercizio precedente per risolvere il sistema lineare Ax = b dove A è la matrice 10x10\n",
        "\\begin{equation*}\n",
        "A = \n",
        "\\begin{pmatrix}\n",
        "5 & 1 & 0 & 0 & ... & 0 \\\\\n",
        "1 & 5 & 1 & 0 & ... & 0 \\\\\n",
        "0 & 1 & \\ddots & \\ddots & \\vdots & \\vdots \\\\\n",
        "0 & 0 & \\ddots & 5 & 1 & 0 \\\\\n",
        "0 & 0 & ... & 1 &  5  & 1 \\\\\n",
        "0 & 0 & ... & 0 &  1  & 5 \\\\\n",
        "\\end{pmatrix}\n",
        "\\end{equation*}\n",
        "e ${\\tt x = (1, 1, ..., 1)^T}$ la soluzione esatta.\n",
        "\n",
        "Confronta i due metodi e grafica in un unico plot i due vettori ${\\tt relErr}$.\n"
      ]
    },
    {
      "cell_type": "code",
      "metadata": {
        "id": "0ogpigL9nNOG"
      },
      "source": [
        "n = 10\n",
        "\n",
        "#help (np.eye)\n",
        "#help (np.diag)\n",
        "A = 5*np.eye(n)+np.diag(np.ones(n-1), 1)+np.diag(np.ones(n-1), -1)\n",
        "print(A, \"\\n\")\n",
        "\n",
        "xTrue = np.ones((n,1))\n",
        "b = np.dot(A,xTrue)\n",
        "print(b, \"\\n\")\n",
        "\n",
        "import random\n",
        "x0 = np.random.rand(10,1)\n",
        "it = 300\n",
        "tol = 0.000000000001\n",
        "\n",
        "(xJacobi, kJacobi, relErrJacobi) = Jacobi(A,b,x0,it,tol,xTrue) \n",
        "(xGS, kGS, relErrGS) = GaussSeidel(A,b,x0,it,tol,xTrue) \n",
        "\n",
        "print('\\nSoluzione calcolata da Jacobi:' )\n",
        "for i in range(n):\n",
        "    print('%0.2f' %xJacobi[i])\n",
        "\n",
        "print('\\nSoluzione calcolata da Gauss Seidel:' )\n",
        "for i in range(n):\n",
        "    print('%0.2f' %xGS[i])"
      ],
      "execution_count": 47,
      "outputs": [
        {
          "output_type": "stream",
          "name": "stdout",
          "text": [
            "[[5. 1. 0. 0. 0. 0. 0. 0. 0. 0.]\n [1. 5. 1. 0. 0. 0. 0. 0. 0. 0.]\n [0. 1. 5. 1. 0. 0. 0. 0. 0. 0.]\n [0. 0. 1. 5. 1. 0. 0. 0. 0. 0.]\n [0. 0. 0. 1. 5. 1. 0. 0. 0. 0.]\n [0. 0. 0. 0. 1. 5. 1. 0. 0. 0.]\n [0. 0. 0. 0. 0. 1. 5. 1. 0. 0.]\n [0. 0. 0. 0. 0. 0. 1. 5. 1. 0.]\n [0. 0. 0. 0. 0. 0. 0. 1. 5. 1.]\n [0. 0. 0. 0. 0. 0. 0. 0. 1. 5.]] \n\n[[6.]\n [7.]\n [7.]\n [7.]\n [7.]\n [7.]\n [7.]\n [7.]\n [7.]\n [6.]] \n\n\nSoluzione calcolata da Jacobi:\n1.00\n1.00\n1.00\n1.00\n1.00\n1.00\n1.00\n1.00\n1.00\n1.00\n\nSoluzione calcolata da Gauss Seidel:\n1.00\n1.00\n1.00\n1.00\n1.00\n1.00\n1.00\n1.00\n1.00\n1.00\n"
          ]
        }
      ]
    },
    {
      "cell_type": "code",
      "metadata": {
        "id": "WfeCuoLJpbGw"
      },
      "source": [
        "# CONFRONTI\n",
        "\n",
        "print (\"Err Jacobi: \", relErrJacobi, \"\\nErr GS: \", relErrGS)\n",
        "\n",
        "# Confronto grafico degli errori di Errore Relativo\n",
        "\n",
        "import matplotlib.pyplot as plt\n",
        "\n",
        "fig, ax = plt.subplots()\n",
        "\n",
        "rangeJabobi = range (0, kJacobi)\n",
        "rangeGS = range(0, kGS)\n",
        "\n",
        "ax.plot(rangeJabobi, relErrJacobi, label='Jacobi', color='blue', linewidth=1, marker='o'  )\n",
        "ax.plot(rangeGS, relErrGS, label='Gauss Seidel', color = 'red', linewidth=2, marker='.' )\n",
        "legend = ax.legend(loc='upper right')\n",
        "plt.xlabel('iterations')\n",
        "plt.ylabel('Relative Error')\n",
        "plt.title('Comparison of the different algorithms')\n",
        "plt.show()\n",
        "\n"
      ],
      "execution_count": 48,
      "outputs": [
        {
          "output_type": "stream",
          "name": "stdout",
          "text": [
            "Err Jacobi:  [[2.06284665e+00]\n [7.20595432e-01]\n [2.68683115e-01]\n [1.01801410e-01]\n [3.87903630e-02]\n [1.48191238e-02]\n [5.66951977e-03]\n [2.17099495e-03]\n [8.31824232e-04]\n [3.18850555e-04]\n [1.22257514e-04]\n [4.68880809e-05]\n [1.79855397e-05]\n [6.89986738e-06]\n [2.64728640e-06]\n [1.01576668e-06]\n [3.89773393e-07]\n [1.49571812e-07]\n [5.73987159e-08]\n [2.20275410e-08]\n [8.45354022e-09]\n [3.24427741e-09]\n [1.24509492e-09]\n [4.77849369e-10]\n [1.83392879e-10]\n [7.03844745e-11]\n [2.70128541e-11]\n [1.03673161e-11]\n [3.97889199e-12]\n [1.52696433e-12]] \nErr GS:  [[2.06284665e+00]\n [3.67231720e-01]\n [6.86797804e-02]\n [1.32535899e-02]\n [2.76825839e-03]\n [5.52506966e-04]\n [1.16736102e-04]\n [2.03947399e-05]\n [3.99133905e-06]\n [5.64415483e-07]\n [1.17996207e-07]\n [2.75573422e-08]\n [5.59882095e-09]\n [1.02293592e-09]\n [1.74700033e-10]\n [2.85609300e-11]\n [4.53453958e-12]\n [7.05680619e-13]]\n"
          ]
        },
        {
          "output_type": "display_data",
          "data": {
            "text/plain": "<Figure size 432x288 with 1 Axes>",
            "image/svg+xml": "<?xml version=\"1.0\" encoding=\"utf-8\" standalone=\"no\"?>\n<!DOCTYPE svg PUBLIC \"-//W3C//DTD SVG 1.1//EN\"\n  \"http://www.w3.org/Graphics/SVG/1.1/DTD/svg11.dtd\">\n<!-- Created with matplotlib (https://matplotlib.org/) -->\n<svg height=\"277.314375pt\" version=\"1.1\" viewBox=\"0 0 387.420866 277.314375\" width=\"387.420866pt\" xmlns=\"http://www.w3.org/2000/svg\" xmlns:xlink=\"http://www.w3.org/1999/xlink\">\n <defs>\n  <style type=\"text/css\">\n*{stroke-linecap:butt;stroke-linejoin:round;}\n  </style>\n </defs>\n <g id=\"figure_1\">\n  <g id=\"patch_1\">\n   <path d=\"M 0 277.314375 \nL 387.420866 277.314375 \nL 387.420866 0 \nL 0 0 \nz\n\" style=\"fill:none;\"/>\n  </g>\n  <g id=\"axes_1\">\n   <g id=\"patch_2\">\n    <path d=\"M 43.78125 239.758125 \nL 378.58125 239.758125 \nL 378.58125 22.318125 \nL 43.78125 22.318125 \nz\n\" style=\"fill:#ffffff;\"/>\n   </g>\n   <g id=\"matplotlib.axis_1\">\n    <g id=\"xtick_1\">\n     <g id=\"line2d_1\">\n      <defs>\n       <path d=\"M 0 0 \nL 0 3.5 \n\" id=\"md66aaccab5\" style=\"stroke:#000000;stroke-width:0.8;\"/>\n      </defs>\n      <g>\n       <use style=\"stroke:#000000;stroke-width:0.8;\" x=\"58.999432\" xlink:href=\"#md66aaccab5\" y=\"239.758125\"/>\n      </g>\n     </g>\n     <g id=\"text_1\">\n      <!-- 0 -->\n      <defs>\n       <path d=\"M 31.78125 66.40625 \nQ 24.171875 66.40625 20.328125 58.90625 \nQ 16.5 51.421875 16.5 36.375 \nQ 16.5 21.390625 20.328125 13.890625 \nQ 24.171875 6.390625 31.78125 6.390625 \nQ 39.453125 6.390625 43.28125 13.890625 \nQ 47.125 21.390625 47.125 36.375 \nQ 47.125 51.421875 43.28125 58.90625 \nQ 39.453125 66.40625 31.78125 66.40625 \nz\nM 31.78125 74.21875 \nQ 44.046875 74.21875 50.515625 64.515625 \nQ 56.984375 54.828125 56.984375 36.375 \nQ 56.984375 17.96875 50.515625 8.265625 \nQ 44.046875 -1.421875 31.78125 -1.421875 \nQ 19.53125 -1.421875 13.0625 8.265625 \nQ 6.59375 17.96875 6.59375 36.375 \nQ 6.59375 54.828125 13.0625 64.515625 \nQ 19.53125 74.21875 31.78125 74.21875 \nz\n\" id=\"DejaVuSans-48\"/>\n      </defs>\n      <g transform=\"translate(55.818182 254.356562)scale(0.1 -0.1)\">\n       <use xlink:href=\"#DejaVuSans-48\"/>\n      </g>\n     </g>\n    </g>\n    <g id=\"xtick_2\">\n     <g id=\"line2d_2\">\n      <g>\n       <use style=\"stroke:#000000;stroke-width:0.8;\" x=\"111.475921\" xlink:href=\"#md66aaccab5\" y=\"239.758125\"/>\n      </g>\n     </g>\n     <g id=\"text_2\">\n      <!-- 5 -->\n      <defs>\n       <path d=\"M 10.796875 72.90625 \nL 49.515625 72.90625 \nL 49.515625 64.59375 \nL 19.828125 64.59375 \nL 19.828125 46.734375 \nQ 21.96875 47.46875 24.109375 47.828125 \nQ 26.265625 48.1875 28.421875 48.1875 \nQ 40.625 48.1875 47.75 41.5 \nQ 54.890625 34.8125 54.890625 23.390625 \nQ 54.890625 11.625 47.5625 5.09375 \nQ 40.234375 -1.421875 26.90625 -1.421875 \nQ 22.3125 -1.421875 17.546875 -0.640625 \nQ 12.796875 0.140625 7.71875 1.703125 \nL 7.71875 11.625 \nQ 12.109375 9.234375 16.796875 8.0625 \nQ 21.484375 6.890625 26.703125 6.890625 \nQ 35.15625 6.890625 40.078125 11.328125 \nQ 45.015625 15.765625 45.015625 23.390625 \nQ 45.015625 31 40.078125 35.4375 \nQ 35.15625 39.890625 26.703125 39.890625 \nQ 22.75 39.890625 18.8125 39.015625 \nQ 14.890625 38.140625 10.796875 36.28125 \nz\n\" id=\"DejaVuSans-53\"/>\n      </defs>\n      <g transform=\"translate(108.294671 254.356562)scale(0.1 -0.1)\">\n       <use xlink:href=\"#DejaVuSans-53\"/>\n      </g>\n     </g>\n    </g>\n    <g id=\"xtick_3\">\n     <g id=\"line2d_3\">\n      <g>\n       <use style=\"stroke:#000000;stroke-width:0.8;\" x=\"163.95241\" xlink:href=\"#md66aaccab5\" y=\"239.758125\"/>\n      </g>\n     </g>\n     <g id=\"text_3\">\n      <!-- 10 -->\n      <defs>\n       <path d=\"M 12.40625 8.296875 \nL 28.515625 8.296875 \nL 28.515625 63.921875 \nL 10.984375 60.40625 \nL 10.984375 69.390625 \nL 28.421875 72.90625 \nL 38.28125 72.90625 \nL 38.28125 8.296875 \nL 54.390625 8.296875 \nL 54.390625 0 \nL 12.40625 0 \nz\n\" id=\"DejaVuSans-49\"/>\n      </defs>\n      <g transform=\"translate(157.58991 254.356562)scale(0.1 -0.1)\">\n       <use xlink:href=\"#DejaVuSans-49\"/>\n       <use x=\"63.623047\" xlink:href=\"#DejaVuSans-48\"/>\n      </g>\n     </g>\n    </g>\n    <g id=\"xtick_4\">\n     <g id=\"line2d_4\">\n      <g>\n       <use style=\"stroke:#000000;stroke-width:0.8;\" x=\"216.428899\" xlink:href=\"#md66aaccab5\" y=\"239.758125\"/>\n      </g>\n     </g>\n     <g id=\"text_4\">\n      <!-- 15 -->\n      <g transform=\"translate(210.066399 254.356562)scale(0.1 -0.1)\">\n       <use xlink:href=\"#DejaVuSans-49\"/>\n       <use x=\"63.623047\" xlink:href=\"#DejaVuSans-53\"/>\n      </g>\n     </g>\n    </g>\n    <g id=\"xtick_5\">\n     <g id=\"line2d_5\">\n      <g>\n       <use style=\"stroke:#000000;stroke-width:0.8;\" x=\"268.905388\" xlink:href=\"#md66aaccab5\" y=\"239.758125\"/>\n      </g>\n     </g>\n     <g id=\"text_5\">\n      <!-- 20 -->\n      <defs>\n       <path d=\"M 19.1875 8.296875 \nL 53.609375 8.296875 \nL 53.609375 0 \nL 7.328125 0 \nL 7.328125 8.296875 \nQ 12.9375 14.109375 22.625 23.890625 \nQ 32.328125 33.6875 34.8125 36.53125 \nQ 39.546875 41.84375 41.421875 45.53125 \nQ 43.3125 49.21875 43.3125 52.78125 \nQ 43.3125 58.59375 39.234375 62.25 \nQ 35.15625 65.921875 28.609375 65.921875 \nQ 23.96875 65.921875 18.8125 64.3125 \nQ 13.671875 62.703125 7.8125 59.421875 \nL 7.8125 69.390625 \nQ 13.765625 71.78125 18.9375 73 \nQ 24.125 74.21875 28.421875 74.21875 \nQ 39.75 74.21875 46.484375 68.546875 \nQ 53.21875 62.890625 53.21875 53.421875 \nQ 53.21875 48.921875 51.53125 44.890625 \nQ 49.859375 40.875 45.40625 35.40625 \nQ 44.1875 33.984375 37.640625 27.21875 \nQ 31.109375 20.453125 19.1875 8.296875 \nz\n\" id=\"DejaVuSans-50\"/>\n      </defs>\n      <g transform=\"translate(262.542888 254.356562)scale(0.1 -0.1)\">\n       <use xlink:href=\"#DejaVuSans-50\"/>\n       <use x=\"63.623047\" xlink:href=\"#DejaVuSans-48\"/>\n      </g>\n     </g>\n    </g>\n    <g id=\"xtick_6\">\n     <g id=\"line2d_6\">\n      <g>\n       <use style=\"stroke:#000000;stroke-width:0.8;\" x=\"321.381877\" xlink:href=\"#md66aaccab5\" y=\"239.758125\"/>\n      </g>\n     </g>\n     <g id=\"text_6\">\n      <!-- 25 -->\n      <g transform=\"translate(315.019377 254.356562)scale(0.1 -0.1)\">\n       <use xlink:href=\"#DejaVuSans-50\"/>\n       <use x=\"63.623047\" xlink:href=\"#DejaVuSans-53\"/>\n      </g>\n     </g>\n    </g>\n    <g id=\"xtick_7\">\n     <g id=\"line2d_7\">\n      <g>\n       <use style=\"stroke:#000000;stroke-width:0.8;\" x=\"373.858366\" xlink:href=\"#md66aaccab5\" y=\"239.758125\"/>\n      </g>\n     </g>\n     <g id=\"text_7\">\n      <!-- 30 -->\n      <defs>\n       <path d=\"M 40.578125 39.3125 \nQ 47.65625 37.796875 51.625 33 \nQ 55.609375 28.21875 55.609375 21.1875 \nQ 55.609375 10.40625 48.1875 4.484375 \nQ 40.765625 -1.421875 27.09375 -1.421875 \nQ 22.515625 -1.421875 17.65625 -0.515625 \nQ 12.796875 0.390625 7.625 2.203125 \nL 7.625 11.71875 \nQ 11.71875 9.328125 16.59375 8.109375 \nQ 21.484375 6.890625 26.8125 6.890625 \nQ 36.078125 6.890625 40.9375 10.546875 \nQ 45.796875 14.203125 45.796875 21.1875 \nQ 45.796875 27.640625 41.28125 31.265625 \nQ 36.765625 34.90625 28.71875 34.90625 \nL 20.21875 34.90625 \nL 20.21875 43.015625 \nL 29.109375 43.015625 \nQ 36.375 43.015625 40.234375 45.921875 \nQ 44.09375 48.828125 44.09375 54.296875 \nQ 44.09375 59.90625 40.109375 62.90625 \nQ 36.140625 65.921875 28.71875 65.921875 \nQ 24.65625 65.921875 20.015625 65.03125 \nQ 15.375 64.15625 9.8125 62.3125 \nL 9.8125 71.09375 \nQ 15.4375 72.65625 20.34375 73.4375 \nQ 25.25 74.21875 29.59375 74.21875 \nQ 40.828125 74.21875 47.359375 69.109375 \nQ 53.90625 64.015625 53.90625 55.328125 \nQ 53.90625 49.265625 50.4375 45.09375 \nQ 46.96875 40.921875 40.578125 39.3125 \nz\n\" id=\"DejaVuSans-51\"/>\n      </defs>\n      <g transform=\"translate(367.495866 254.356562)scale(0.1 -0.1)\">\n       <use xlink:href=\"#DejaVuSans-51\"/>\n       <use x=\"63.623047\" xlink:href=\"#DejaVuSans-48\"/>\n      </g>\n     </g>\n    </g>\n    <g id=\"text_8\">\n     <!-- iterations -->\n     <defs>\n      <path d=\"M 9.421875 54.6875 \nL 18.40625 54.6875 \nL 18.40625 0 \nL 9.421875 0 \nz\nM 9.421875 75.984375 \nL 18.40625 75.984375 \nL 18.40625 64.59375 \nL 9.421875 64.59375 \nz\n\" id=\"DejaVuSans-105\"/>\n      <path d=\"M 18.3125 70.21875 \nL 18.3125 54.6875 \nL 36.8125 54.6875 \nL 36.8125 47.703125 \nL 18.3125 47.703125 \nL 18.3125 18.015625 \nQ 18.3125 11.328125 20.140625 9.421875 \nQ 21.96875 7.515625 27.59375 7.515625 \nL 36.8125 7.515625 \nL 36.8125 0 \nL 27.59375 0 \nQ 17.1875 0 13.234375 3.875 \nQ 9.28125 7.765625 9.28125 18.015625 \nL 9.28125 47.703125 \nL 2.6875 47.703125 \nL 2.6875 54.6875 \nL 9.28125 54.6875 \nL 9.28125 70.21875 \nz\n\" id=\"DejaVuSans-116\"/>\n      <path d=\"M 56.203125 29.59375 \nL 56.203125 25.203125 \nL 14.890625 25.203125 \nQ 15.484375 15.921875 20.484375 11.0625 \nQ 25.484375 6.203125 34.421875 6.203125 \nQ 39.59375 6.203125 44.453125 7.46875 \nQ 49.3125 8.734375 54.109375 11.28125 \nL 54.109375 2.78125 \nQ 49.265625 0.734375 44.1875 -0.34375 \nQ 39.109375 -1.421875 33.890625 -1.421875 \nQ 20.796875 -1.421875 13.15625 6.1875 \nQ 5.515625 13.8125 5.515625 26.8125 \nQ 5.515625 40.234375 12.765625 48.109375 \nQ 20.015625 56 32.328125 56 \nQ 43.359375 56 49.78125 48.890625 \nQ 56.203125 41.796875 56.203125 29.59375 \nz\nM 47.21875 32.234375 \nQ 47.125 39.59375 43.09375 43.984375 \nQ 39.0625 48.390625 32.421875 48.390625 \nQ 24.90625 48.390625 20.390625 44.140625 \nQ 15.875 39.890625 15.1875 32.171875 \nz\n\" id=\"DejaVuSans-101\"/>\n      <path d=\"M 41.109375 46.296875 \nQ 39.59375 47.171875 37.8125 47.578125 \nQ 36.03125 48 33.890625 48 \nQ 26.265625 48 22.1875 43.046875 \nQ 18.109375 38.09375 18.109375 28.8125 \nL 18.109375 0 \nL 9.078125 0 \nL 9.078125 54.6875 \nL 18.109375 54.6875 \nL 18.109375 46.1875 \nQ 20.953125 51.171875 25.484375 53.578125 \nQ 30.03125 56 36.53125 56 \nQ 37.453125 56 38.578125 55.875 \nQ 39.703125 55.765625 41.0625 55.515625 \nz\n\" id=\"DejaVuSans-114\"/>\n      <path d=\"M 34.28125 27.484375 \nQ 23.390625 27.484375 19.1875 25 \nQ 14.984375 22.515625 14.984375 16.5 \nQ 14.984375 11.71875 18.140625 8.90625 \nQ 21.296875 6.109375 26.703125 6.109375 \nQ 34.1875 6.109375 38.703125 11.40625 \nQ 43.21875 16.703125 43.21875 25.484375 \nL 43.21875 27.484375 \nz\nM 52.203125 31.203125 \nL 52.203125 0 \nL 43.21875 0 \nL 43.21875 8.296875 \nQ 40.140625 3.328125 35.546875 0.953125 \nQ 30.953125 -1.421875 24.3125 -1.421875 \nQ 15.921875 -1.421875 10.953125 3.296875 \nQ 6 8.015625 6 15.921875 \nQ 6 25.140625 12.171875 29.828125 \nQ 18.359375 34.515625 30.609375 34.515625 \nL 43.21875 34.515625 \nL 43.21875 35.40625 \nQ 43.21875 41.609375 39.140625 45 \nQ 35.0625 48.390625 27.6875 48.390625 \nQ 23 48.390625 18.546875 47.265625 \nQ 14.109375 46.140625 10.015625 43.890625 \nL 10.015625 52.203125 \nQ 14.9375 54.109375 19.578125 55.046875 \nQ 24.21875 56 28.609375 56 \nQ 40.484375 56 46.34375 49.84375 \nQ 52.203125 43.703125 52.203125 31.203125 \nz\n\" id=\"DejaVuSans-97\"/>\n      <path d=\"M 30.609375 48.390625 \nQ 23.390625 48.390625 19.1875 42.75 \nQ 14.984375 37.109375 14.984375 27.296875 \nQ 14.984375 17.484375 19.15625 11.84375 \nQ 23.34375 6.203125 30.609375 6.203125 \nQ 37.796875 6.203125 41.984375 11.859375 \nQ 46.1875 17.53125 46.1875 27.296875 \nQ 46.1875 37.015625 41.984375 42.703125 \nQ 37.796875 48.390625 30.609375 48.390625 \nz\nM 30.609375 56 \nQ 42.328125 56 49.015625 48.375 \nQ 55.71875 40.765625 55.71875 27.296875 \nQ 55.71875 13.875 49.015625 6.21875 \nQ 42.328125 -1.421875 30.609375 -1.421875 \nQ 18.84375 -1.421875 12.171875 6.21875 \nQ 5.515625 13.875 5.515625 27.296875 \nQ 5.515625 40.765625 12.171875 48.375 \nQ 18.84375 56 30.609375 56 \nz\n\" id=\"DejaVuSans-111\"/>\n      <path d=\"M 54.890625 33.015625 \nL 54.890625 0 \nL 45.90625 0 \nL 45.90625 32.71875 \nQ 45.90625 40.484375 42.875 44.328125 \nQ 39.84375 48.1875 33.796875 48.1875 \nQ 26.515625 48.1875 22.3125 43.546875 \nQ 18.109375 38.921875 18.109375 30.90625 \nL 18.109375 0 \nL 9.078125 0 \nL 9.078125 54.6875 \nL 18.109375 54.6875 \nL 18.109375 46.1875 \nQ 21.34375 51.125 25.703125 53.5625 \nQ 30.078125 56 35.796875 56 \nQ 45.21875 56 50.046875 50.171875 \nQ 54.890625 44.34375 54.890625 33.015625 \nz\n\" id=\"DejaVuSans-110\"/>\n      <path d=\"M 44.28125 53.078125 \nL 44.28125 44.578125 \nQ 40.484375 46.53125 36.375 47.5 \nQ 32.28125 48.484375 27.875 48.484375 \nQ 21.1875 48.484375 17.84375 46.4375 \nQ 14.5 44.390625 14.5 40.28125 \nQ 14.5 37.15625 16.890625 35.375 \nQ 19.28125 33.59375 26.515625 31.984375 \nL 29.59375 31.296875 \nQ 39.15625 29.25 43.1875 25.515625 \nQ 47.21875 21.78125 47.21875 15.09375 \nQ 47.21875 7.46875 41.1875 3.015625 \nQ 35.15625 -1.421875 24.609375 -1.421875 \nQ 20.21875 -1.421875 15.453125 -0.5625 \nQ 10.6875 0.296875 5.421875 2 \nL 5.421875 11.28125 \nQ 10.40625 8.6875 15.234375 7.390625 \nQ 20.0625 6.109375 24.8125 6.109375 \nQ 31.15625 6.109375 34.5625 8.28125 \nQ 37.984375 10.453125 37.984375 14.40625 \nQ 37.984375 18.0625 35.515625 20.015625 \nQ 33.0625 21.96875 24.703125 23.78125 \nL 21.578125 24.515625 \nQ 13.234375 26.265625 9.515625 29.90625 \nQ 5.8125 33.546875 5.8125 39.890625 \nQ 5.8125 47.609375 11.28125 51.796875 \nQ 16.75 56 26.8125 56 \nQ 31.78125 56 36.171875 55.265625 \nQ 40.578125 54.546875 44.28125 53.078125 \nz\n\" id=\"DejaVuSans-115\"/>\n     </defs>\n     <g transform=\"translate(187.453906 268.034687)scale(0.1 -0.1)\">\n      <use xlink:href=\"#DejaVuSans-105\"/>\n      <use x=\"27.783203\" xlink:href=\"#DejaVuSans-116\"/>\n      <use x=\"66.992188\" xlink:href=\"#DejaVuSans-101\"/>\n      <use x=\"128.515625\" xlink:href=\"#DejaVuSans-114\"/>\n      <use x=\"169.628906\" xlink:href=\"#DejaVuSans-97\"/>\n      <use x=\"230.908203\" xlink:href=\"#DejaVuSans-116\"/>\n      <use x=\"270.117188\" xlink:href=\"#DejaVuSans-105\"/>\n      <use x=\"297.900391\" xlink:href=\"#DejaVuSans-111\"/>\n      <use x=\"359.082031\" xlink:href=\"#DejaVuSans-110\"/>\n      <use x=\"422.460938\" xlink:href=\"#DejaVuSans-115\"/>\n     </g>\n    </g>\n   </g>\n   <g id=\"matplotlib.axis_2\">\n    <g id=\"ytick_1\">\n     <g id=\"line2d_8\">\n      <defs>\n       <path d=\"M 0 0 \nL -3.5 0 \n\" id=\"m43c1c76f1c\" style=\"stroke:#000000;stroke-width:0.8;\"/>\n      </defs>\n      <g>\n       <use style=\"stroke:#000000;stroke-width:0.8;\" x=\"43.78125\" xlink:href=\"#m43c1c76f1c\" y=\"229.874489\"/>\n      </g>\n     </g>\n     <g id=\"text_9\">\n      <!-- 0.0 -->\n      <defs>\n       <path d=\"M 10.6875 12.40625 \nL 21 12.40625 \nL 21 0 \nL 10.6875 0 \nz\n\" id=\"DejaVuSans-46\"/>\n      </defs>\n      <g transform=\"translate(20.878125 233.673707)scale(0.1 -0.1)\">\n       <use xlink:href=\"#DejaVuSans-48\"/>\n       <use x=\"63.623047\" xlink:href=\"#DejaVuSans-46\"/>\n       <use x=\"95.410156\" xlink:href=\"#DejaVuSans-48\"/>\n      </g>\n     </g>\n    </g>\n    <g id=\"ytick_2\">\n     <g id=\"line2d_9\">\n      <g>\n       <use style=\"stroke:#000000;stroke-width:0.8;\" x=\"43.78125\" xlink:href=\"#m43c1c76f1c\" y=\"181.96188\"/>\n      </g>\n     </g>\n     <g id=\"text_10\">\n      <!-- 0.5 -->\n      <g transform=\"translate(20.878125 185.761099)scale(0.1 -0.1)\">\n       <use xlink:href=\"#DejaVuSans-48\"/>\n       <use x=\"63.623047\" xlink:href=\"#DejaVuSans-46\"/>\n       <use x=\"95.410156\" xlink:href=\"#DejaVuSans-53\"/>\n      </g>\n     </g>\n    </g>\n    <g id=\"ytick_3\">\n     <g id=\"line2d_10\">\n      <g>\n       <use style=\"stroke:#000000;stroke-width:0.8;\" x=\"43.78125\" xlink:href=\"#m43c1c76f1c\" y=\"134.049272\"/>\n      </g>\n     </g>\n     <g id=\"text_11\">\n      <!-- 1.0 -->\n      <g transform=\"translate(20.878125 137.848491)scale(0.1 -0.1)\">\n       <use xlink:href=\"#DejaVuSans-49\"/>\n       <use x=\"63.623047\" xlink:href=\"#DejaVuSans-46\"/>\n       <use x=\"95.410156\" xlink:href=\"#DejaVuSans-48\"/>\n      </g>\n     </g>\n    </g>\n    <g id=\"ytick_4\">\n     <g id=\"line2d_11\">\n      <g>\n       <use style=\"stroke:#000000;stroke-width:0.8;\" x=\"43.78125\" xlink:href=\"#m43c1c76f1c\" y=\"86.136664\"/>\n      </g>\n     </g>\n     <g id=\"text_12\">\n      <!-- 1.5 -->\n      <g transform=\"translate(20.878125 89.935882)scale(0.1 -0.1)\">\n       <use xlink:href=\"#DejaVuSans-49\"/>\n       <use x=\"63.623047\" xlink:href=\"#DejaVuSans-46\"/>\n       <use x=\"95.410156\" xlink:href=\"#DejaVuSans-53\"/>\n      </g>\n     </g>\n    </g>\n    <g id=\"ytick_5\">\n     <g id=\"line2d_12\">\n      <g>\n       <use style=\"stroke:#000000;stroke-width:0.8;\" x=\"43.78125\" xlink:href=\"#m43c1c76f1c\" y=\"38.224055\"/>\n      </g>\n     </g>\n     <g id=\"text_13\">\n      <!-- 2.0 -->\n      <g transform=\"translate(20.878125 42.023274)scale(0.1 -0.1)\">\n       <use xlink:href=\"#DejaVuSans-50\"/>\n       <use x=\"63.623047\" xlink:href=\"#DejaVuSans-46\"/>\n       <use x=\"95.410156\" xlink:href=\"#DejaVuSans-48\"/>\n      </g>\n     </g>\n    </g>\n    <g id=\"text_14\">\n     <!-- Relative Error -->\n     <defs>\n      <path d=\"M 44.390625 34.1875 \nQ 47.5625 33.109375 50.5625 29.59375 \nQ 53.5625 26.078125 56.59375 19.921875 \nL 66.609375 0 \nL 56 0 \nL 46.6875 18.703125 \nQ 43.0625 26.03125 39.671875 28.421875 \nQ 36.28125 30.8125 30.421875 30.8125 \nL 19.671875 30.8125 \nL 19.671875 0 \nL 9.8125 0 \nL 9.8125 72.90625 \nL 32.078125 72.90625 \nQ 44.578125 72.90625 50.734375 67.671875 \nQ 56.890625 62.453125 56.890625 51.90625 \nQ 56.890625 45.015625 53.6875 40.46875 \nQ 50.484375 35.9375 44.390625 34.1875 \nz\nM 19.671875 64.796875 \nL 19.671875 38.921875 \nL 32.078125 38.921875 \nQ 39.203125 38.921875 42.84375 42.21875 \nQ 46.484375 45.515625 46.484375 51.90625 \nQ 46.484375 58.296875 42.84375 61.546875 \nQ 39.203125 64.796875 32.078125 64.796875 \nz\n\" id=\"DejaVuSans-82\"/>\n      <path d=\"M 9.421875 75.984375 \nL 18.40625 75.984375 \nL 18.40625 0 \nL 9.421875 0 \nz\n\" id=\"DejaVuSans-108\"/>\n      <path d=\"M 2.984375 54.6875 \nL 12.5 54.6875 \nL 29.59375 8.796875 \nL 46.6875 54.6875 \nL 56.203125 54.6875 \nL 35.6875 0 \nL 23.484375 0 \nz\n\" id=\"DejaVuSans-118\"/>\n      <path id=\"DejaVuSans-32\"/>\n      <path d=\"M 9.8125 72.90625 \nL 55.90625 72.90625 \nL 55.90625 64.59375 \nL 19.671875 64.59375 \nL 19.671875 43.015625 \nL 54.390625 43.015625 \nL 54.390625 34.71875 \nL 19.671875 34.71875 \nL 19.671875 8.296875 \nL 56.78125 8.296875 \nL 56.78125 0 \nL 9.8125 0 \nz\n\" id=\"DejaVuSans-69\"/>\n     </defs>\n     <g transform=\"translate(14.798438 164.976406)rotate(-90)scale(0.1 -0.1)\">\n      <use xlink:href=\"#DejaVuSans-82\"/>\n      <use x=\"64.982422\" xlink:href=\"#DejaVuSans-101\"/>\n      <use x=\"126.505859\" xlink:href=\"#DejaVuSans-108\"/>\n      <use x=\"154.289062\" xlink:href=\"#DejaVuSans-97\"/>\n      <use x=\"215.568359\" xlink:href=\"#DejaVuSans-116\"/>\n      <use x=\"254.777344\" xlink:href=\"#DejaVuSans-105\"/>\n      <use x=\"282.560547\" xlink:href=\"#DejaVuSans-118\"/>\n      <use x=\"341.740234\" xlink:href=\"#DejaVuSans-101\"/>\n      <use x=\"403.263672\" xlink:href=\"#DejaVuSans-32\"/>\n      <use x=\"435.050781\" xlink:href=\"#DejaVuSans-69\"/>\n      <use x=\"498.234375\" xlink:href=\"#DejaVuSans-114\"/>\n      <use x=\"537.597656\" xlink:href=\"#DejaVuSans-114\"/>\n      <use x=\"576.460938\" xlink:href=\"#DejaVuSans-111\"/>\n      <use x=\"637.642578\" xlink:href=\"#DejaVuSans-114\"/>\n     </g>\n    </g>\n   </g>\n   <g id=\"line2d_13\">\n    <path clip-path=\"url(#p3c746303c0)\" d=\"M 58.999432 32.201761 \nL 69.49473 160.823275 \nL 79.990027 204.127871 \nL 90.485325 220.119346 \nL 100.980623 226.157394 \nL 111.475921 228.454443 \nL 121.971219 229.331206 \nL 132.466516 229.666453 \nL 142.961814 229.794779 \nL 153.457112 229.843935 \nL 163.95241 229.862773 \nL 174.447708 229.869996 \nL 184.943005 229.872765 \nL 195.438303 229.873827 \nL 205.933601 229.874235 \nL 216.428899 229.874391 \nL 226.924197 229.874451 \nL 237.419495 229.874474 \nL 247.914792 229.874483 \nL 258.41009 229.874487 \nL 268.905388 229.874488 \nL 279.400686 229.874488 \nL 289.895984 229.874489 \nL 300.391281 229.874489 \nL 310.886579 229.874489 \nL 321.381877 229.874489 \nL 331.877175 229.874489 \nL 342.372473 229.874489 \nL 352.86777 229.874489 \nL 363.363068 229.874489 \n\" style=\"fill:none;stroke:#0000ff;stroke-linecap:square;\"/>\n    <defs>\n     <path d=\"M 0 3 \nC 0.795609 3 1.55874 2.683901 2.12132 2.12132 \nC 2.683901 1.55874 3 0.795609 3 0 \nC 3 -0.795609 2.683901 -1.55874 2.12132 -2.12132 \nC 1.55874 -2.683901 0.795609 -3 0 -3 \nC -0.795609 -3 -1.55874 -2.683901 -2.12132 -2.12132 \nC -2.683901 -1.55874 -3 -0.795609 -3 0 \nC -3 0.795609 -2.683901 1.55874 -2.12132 2.12132 \nC -1.55874 2.683901 -0.795609 3 0 3 \nz\n\" id=\"m749fdca68f\" style=\"stroke:#0000ff;\"/>\n    </defs>\n    <g clip-path=\"url(#p3c746303c0)\">\n     <use style=\"fill:#0000ff;stroke:#0000ff;\" x=\"58.999432\" xlink:href=\"#m749fdca68f\" y=\"32.201761\"/>\n     <use style=\"fill:#0000ff;stroke:#0000ff;\" x=\"69.49473\" xlink:href=\"#m749fdca68f\" y=\"160.823275\"/>\n     <use style=\"fill:#0000ff;stroke:#0000ff;\" x=\"79.990027\" xlink:href=\"#m749fdca68f\" y=\"204.127871\"/>\n     <use style=\"fill:#0000ff;stroke:#0000ff;\" x=\"90.485325\" xlink:href=\"#m749fdca68f\" y=\"220.119346\"/>\n     <use style=\"fill:#0000ff;stroke:#0000ff;\" x=\"100.980623\" xlink:href=\"#m749fdca68f\" y=\"226.157394\"/>\n     <use style=\"fill:#0000ff;stroke:#0000ff;\" x=\"111.475921\" xlink:href=\"#m749fdca68f\" y=\"228.454443\"/>\n     <use style=\"fill:#0000ff;stroke:#0000ff;\" x=\"121.971219\" xlink:href=\"#m749fdca68f\" y=\"229.331206\"/>\n     <use style=\"fill:#0000ff;stroke:#0000ff;\" x=\"132.466516\" xlink:href=\"#m749fdca68f\" y=\"229.666453\"/>\n     <use style=\"fill:#0000ff;stroke:#0000ff;\" x=\"142.961814\" xlink:href=\"#m749fdca68f\" y=\"229.794779\"/>\n     <use style=\"fill:#0000ff;stroke:#0000ff;\" x=\"153.457112\" xlink:href=\"#m749fdca68f\" y=\"229.843935\"/>\n     <use style=\"fill:#0000ff;stroke:#0000ff;\" x=\"163.95241\" xlink:href=\"#m749fdca68f\" y=\"229.862773\"/>\n     <use style=\"fill:#0000ff;stroke:#0000ff;\" x=\"174.447708\" xlink:href=\"#m749fdca68f\" y=\"229.869996\"/>\n     <use style=\"fill:#0000ff;stroke:#0000ff;\" x=\"184.943005\" xlink:href=\"#m749fdca68f\" y=\"229.872765\"/>\n     <use style=\"fill:#0000ff;stroke:#0000ff;\" x=\"195.438303\" xlink:href=\"#m749fdca68f\" y=\"229.873827\"/>\n     <use style=\"fill:#0000ff;stroke:#0000ff;\" x=\"205.933601\" xlink:href=\"#m749fdca68f\" y=\"229.874235\"/>\n     <use style=\"fill:#0000ff;stroke:#0000ff;\" x=\"216.428899\" xlink:href=\"#m749fdca68f\" y=\"229.874391\"/>\n     <use style=\"fill:#0000ff;stroke:#0000ff;\" x=\"226.924197\" xlink:href=\"#m749fdca68f\" y=\"229.874451\"/>\n     <use style=\"fill:#0000ff;stroke:#0000ff;\" x=\"237.419495\" xlink:href=\"#m749fdca68f\" y=\"229.874474\"/>\n     <use style=\"fill:#0000ff;stroke:#0000ff;\" x=\"247.914792\" xlink:href=\"#m749fdca68f\" y=\"229.874483\"/>\n     <use style=\"fill:#0000ff;stroke:#0000ff;\" x=\"258.41009\" xlink:href=\"#m749fdca68f\" y=\"229.874487\"/>\n     <use style=\"fill:#0000ff;stroke:#0000ff;\" x=\"268.905388\" xlink:href=\"#m749fdca68f\" y=\"229.874488\"/>\n     <use style=\"fill:#0000ff;stroke:#0000ff;\" x=\"279.400686\" xlink:href=\"#m749fdca68f\" y=\"229.874488\"/>\n     <use style=\"fill:#0000ff;stroke:#0000ff;\" x=\"289.895984\" xlink:href=\"#m749fdca68f\" y=\"229.874489\"/>\n     <use style=\"fill:#0000ff;stroke:#0000ff;\" x=\"300.391281\" xlink:href=\"#m749fdca68f\" y=\"229.874489\"/>\n     <use style=\"fill:#0000ff;stroke:#0000ff;\" x=\"310.886579\" xlink:href=\"#m749fdca68f\" y=\"229.874489\"/>\n     <use style=\"fill:#0000ff;stroke:#0000ff;\" x=\"321.381877\" xlink:href=\"#m749fdca68f\" y=\"229.874489\"/>\n     <use style=\"fill:#0000ff;stroke:#0000ff;\" x=\"331.877175\" xlink:href=\"#m749fdca68f\" y=\"229.874489\"/>\n     <use style=\"fill:#0000ff;stroke:#0000ff;\" x=\"342.372473\" xlink:href=\"#m749fdca68f\" y=\"229.874489\"/>\n     <use style=\"fill:#0000ff;stroke:#0000ff;\" x=\"352.86777\" xlink:href=\"#m749fdca68f\" y=\"229.874489\"/>\n     <use style=\"fill:#0000ff;stroke:#0000ff;\" x=\"363.363068\" xlink:href=\"#m749fdca68f\" y=\"229.874489\"/>\n    </g>\n   </g>\n   <g id=\"line2d_14\">\n    <path clip-path=\"url(#p3c746303c0)\" d=\"M 58.999432 32.201761 \nL 69.49473 194.68443 \nL 79.990027 223.293234 \nL 90.485325 228.604461 \nL 100.980623 229.60922 \nL 111.475921 229.821545 \nL 121.971219 229.863302 \nL 132.466516 229.872534 \nL 142.961814 229.874106 \nL 153.457112 229.874435 \nL 163.95241 229.874477 \nL 174.447708 229.874486 \nL 184.943005 229.874488 \nL 195.438303 229.874489 \nL 205.933601 229.874489 \nL 216.428899 229.874489 \nL 226.924197 229.874489 \nL 237.419495 229.874489 \n\" style=\"fill:none;stroke:#ff0000;stroke-linecap:square;stroke-width:2;\"/>\n    <defs>\n     <path d=\"M 0 1.5 \nC 0.397805 1.5 0.77937 1.341951 1.06066 1.06066 \nC 1.341951 0.77937 1.5 0.397805 1.5 0 \nC 1.5 -0.397805 1.341951 -0.77937 1.06066 -1.06066 \nC 0.77937 -1.341951 0.397805 -1.5 0 -1.5 \nC -0.397805 -1.5 -0.77937 -1.341951 -1.06066 -1.06066 \nC -1.341951 -0.77937 -1.5 -0.397805 -1.5 0 \nC -1.5 0.397805 -1.341951 0.77937 -1.06066 1.06066 \nC -0.77937 1.341951 -0.397805 1.5 0 1.5 \nz\n\" id=\"m59cd58c2fa\" style=\"stroke:#ff0000;\"/>\n    </defs>\n    <g clip-path=\"url(#p3c746303c0)\">\n     <use style=\"fill:#ff0000;stroke:#ff0000;\" x=\"58.999432\" xlink:href=\"#m59cd58c2fa\" y=\"32.201761\"/>\n     <use style=\"fill:#ff0000;stroke:#ff0000;\" x=\"69.49473\" xlink:href=\"#m59cd58c2fa\" y=\"194.68443\"/>\n     <use style=\"fill:#ff0000;stroke:#ff0000;\" x=\"79.990027\" xlink:href=\"#m59cd58c2fa\" y=\"223.293234\"/>\n     <use style=\"fill:#ff0000;stroke:#ff0000;\" x=\"90.485325\" xlink:href=\"#m59cd58c2fa\" y=\"228.604461\"/>\n     <use style=\"fill:#ff0000;stroke:#ff0000;\" x=\"100.980623\" xlink:href=\"#m59cd58c2fa\" y=\"229.60922\"/>\n     <use style=\"fill:#ff0000;stroke:#ff0000;\" x=\"111.475921\" xlink:href=\"#m59cd58c2fa\" y=\"229.821545\"/>\n     <use style=\"fill:#ff0000;stroke:#ff0000;\" x=\"121.971219\" xlink:href=\"#m59cd58c2fa\" y=\"229.863302\"/>\n     <use style=\"fill:#ff0000;stroke:#ff0000;\" x=\"132.466516\" xlink:href=\"#m59cd58c2fa\" y=\"229.872534\"/>\n     <use style=\"fill:#ff0000;stroke:#ff0000;\" x=\"142.961814\" xlink:href=\"#m59cd58c2fa\" y=\"229.874106\"/>\n     <use style=\"fill:#ff0000;stroke:#ff0000;\" x=\"153.457112\" xlink:href=\"#m59cd58c2fa\" y=\"229.874435\"/>\n     <use style=\"fill:#ff0000;stroke:#ff0000;\" x=\"163.95241\" xlink:href=\"#m59cd58c2fa\" y=\"229.874477\"/>\n     <use style=\"fill:#ff0000;stroke:#ff0000;\" x=\"174.447708\" xlink:href=\"#m59cd58c2fa\" y=\"229.874486\"/>\n     <use style=\"fill:#ff0000;stroke:#ff0000;\" x=\"184.943005\" xlink:href=\"#m59cd58c2fa\" y=\"229.874488\"/>\n     <use style=\"fill:#ff0000;stroke:#ff0000;\" x=\"195.438303\" xlink:href=\"#m59cd58c2fa\" y=\"229.874489\"/>\n     <use style=\"fill:#ff0000;stroke:#ff0000;\" x=\"205.933601\" xlink:href=\"#m59cd58c2fa\" y=\"229.874489\"/>\n     <use style=\"fill:#ff0000;stroke:#ff0000;\" x=\"216.428899\" xlink:href=\"#m59cd58c2fa\" y=\"229.874489\"/>\n     <use style=\"fill:#ff0000;stroke:#ff0000;\" x=\"226.924197\" xlink:href=\"#m59cd58c2fa\" y=\"229.874489\"/>\n     <use style=\"fill:#ff0000;stroke:#ff0000;\" x=\"237.419495\" xlink:href=\"#m59cd58c2fa\" y=\"229.874489\"/>\n    </g>\n   </g>\n   <g id=\"patch_3\">\n    <path d=\"M 43.78125 239.758125 \nL 43.78125 22.318125 \n\" style=\"fill:none;stroke:#000000;stroke-linecap:square;stroke-linejoin:miter;stroke-width:0.8;\"/>\n   </g>\n   <g id=\"patch_4\">\n    <path d=\"M 378.58125 239.758125 \nL 378.58125 22.318125 \n\" style=\"fill:none;stroke:#000000;stroke-linecap:square;stroke-linejoin:miter;stroke-width:0.8;\"/>\n   </g>\n   <g id=\"patch_5\">\n    <path d=\"M 43.78125 239.758125 \nL 378.58125 239.758125 \n\" style=\"fill:none;stroke:#000000;stroke-linecap:square;stroke-linejoin:miter;stroke-width:0.8;\"/>\n   </g>\n   <g id=\"patch_6\">\n    <path d=\"M 43.78125 22.318125 \nL 378.58125 22.318125 \n\" style=\"fill:none;stroke:#000000;stroke-linecap:square;stroke-linejoin:miter;stroke-width:0.8;\"/>\n   </g>\n   <g id=\"text_15\">\n    <!-- Comparison of the different algorithms -->\n    <defs>\n     <path d=\"M 64.40625 67.28125 \nL 64.40625 56.890625 \nQ 59.421875 61.53125 53.78125 63.8125 \nQ 48.140625 66.109375 41.796875 66.109375 \nQ 29.296875 66.109375 22.65625 58.46875 \nQ 16.015625 50.828125 16.015625 36.375 \nQ 16.015625 21.96875 22.65625 14.328125 \nQ 29.296875 6.6875 41.796875 6.6875 \nQ 48.140625 6.6875 53.78125 8.984375 \nQ 59.421875 11.28125 64.40625 15.921875 \nL 64.40625 5.609375 \nQ 59.234375 2.09375 53.4375 0.328125 \nQ 47.65625 -1.421875 41.21875 -1.421875 \nQ 24.65625 -1.421875 15.125 8.703125 \nQ 5.609375 18.84375 5.609375 36.375 \nQ 5.609375 53.953125 15.125 64.078125 \nQ 24.65625 74.21875 41.21875 74.21875 \nQ 47.75 74.21875 53.53125 72.484375 \nQ 59.328125 70.75 64.40625 67.28125 \nz\n\" id=\"DejaVuSans-67\"/>\n     <path d=\"M 52 44.1875 \nQ 55.375 50.25 60.0625 53.125 \nQ 64.75 56 71.09375 56 \nQ 79.640625 56 84.28125 50.015625 \nQ 88.921875 44.046875 88.921875 33.015625 \nL 88.921875 0 \nL 79.890625 0 \nL 79.890625 32.71875 \nQ 79.890625 40.578125 77.09375 44.375 \nQ 74.3125 48.1875 68.609375 48.1875 \nQ 61.625 48.1875 57.5625 43.546875 \nQ 53.515625 38.921875 53.515625 30.90625 \nL 53.515625 0 \nL 44.484375 0 \nL 44.484375 32.71875 \nQ 44.484375 40.625 41.703125 44.40625 \nQ 38.921875 48.1875 33.109375 48.1875 \nQ 26.21875 48.1875 22.15625 43.53125 \nQ 18.109375 38.875 18.109375 30.90625 \nL 18.109375 0 \nL 9.078125 0 \nL 9.078125 54.6875 \nL 18.109375 54.6875 \nL 18.109375 46.1875 \nQ 21.1875 51.21875 25.484375 53.609375 \nQ 29.78125 56 35.6875 56 \nQ 41.65625 56 45.828125 52.96875 \nQ 50 49.953125 52 44.1875 \nz\n\" id=\"DejaVuSans-109\"/>\n     <path d=\"M 18.109375 8.203125 \nL 18.109375 -20.796875 \nL 9.078125 -20.796875 \nL 9.078125 54.6875 \nL 18.109375 54.6875 \nL 18.109375 46.390625 \nQ 20.953125 51.265625 25.265625 53.625 \nQ 29.59375 56 35.59375 56 \nQ 45.5625 56 51.78125 48.09375 \nQ 58.015625 40.1875 58.015625 27.296875 \nQ 58.015625 14.40625 51.78125 6.484375 \nQ 45.5625 -1.421875 35.59375 -1.421875 \nQ 29.59375 -1.421875 25.265625 0.953125 \nQ 20.953125 3.328125 18.109375 8.203125 \nz\nM 48.6875 27.296875 \nQ 48.6875 37.203125 44.609375 42.84375 \nQ 40.53125 48.484375 33.40625 48.484375 \nQ 26.265625 48.484375 22.1875 42.84375 \nQ 18.109375 37.203125 18.109375 27.296875 \nQ 18.109375 17.390625 22.1875 11.75 \nQ 26.265625 6.109375 33.40625 6.109375 \nQ 40.53125 6.109375 44.609375 11.75 \nQ 48.6875 17.390625 48.6875 27.296875 \nz\n\" id=\"DejaVuSans-112\"/>\n     <path d=\"M 37.109375 75.984375 \nL 37.109375 68.5 \nL 28.515625 68.5 \nQ 23.6875 68.5 21.796875 66.546875 \nQ 19.921875 64.59375 19.921875 59.515625 \nL 19.921875 54.6875 \nL 34.71875 54.6875 \nL 34.71875 47.703125 \nL 19.921875 47.703125 \nL 19.921875 0 \nL 10.890625 0 \nL 10.890625 47.703125 \nL 2.296875 47.703125 \nL 2.296875 54.6875 \nL 10.890625 54.6875 \nL 10.890625 58.5 \nQ 10.890625 67.625 15.140625 71.796875 \nQ 19.390625 75.984375 28.609375 75.984375 \nz\n\" id=\"DejaVuSans-102\"/>\n     <path d=\"M 54.890625 33.015625 \nL 54.890625 0 \nL 45.90625 0 \nL 45.90625 32.71875 \nQ 45.90625 40.484375 42.875 44.328125 \nQ 39.84375 48.1875 33.796875 48.1875 \nQ 26.515625 48.1875 22.3125 43.546875 \nQ 18.109375 38.921875 18.109375 30.90625 \nL 18.109375 0 \nL 9.078125 0 \nL 9.078125 75.984375 \nL 18.109375 75.984375 \nL 18.109375 46.1875 \nQ 21.34375 51.125 25.703125 53.5625 \nQ 30.078125 56 35.796875 56 \nQ 45.21875 56 50.046875 50.171875 \nQ 54.890625 44.34375 54.890625 33.015625 \nz\n\" id=\"DejaVuSans-104\"/>\n     <path d=\"M 45.40625 46.390625 \nL 45.40625 75.984375 \nL 54.390625 75.984375 \nL 54.390625 0 \nL 45.40625 0 \nL 45.40625 8.203125 \nQ 42.578125 3.328125 38.25 0.953125 \nQ 33.9375 -1.421875 27.875 -1.421875 \nQ 17.96875 -1.421875 11.734375 6.484375 \nQ 5.515625 14.40625 5.515625 27.296875 \nQ 5.515625 40.1875 11.734375 48.09375 \nQ 17.96875 56 27.875 56 \nQ 33.9375 56 38.25 53.625 \nQ 42.578125 51.265625 45.40625 46.390625 \nz\nM 14.796875 27.296875 \nQ 14.796875 17.390625 18.875 11.75 \nQ 22.953125 6.109375 30.078125 6.109375 \nQ 37.203125 6.109375 41.296875 11.75 \nQ 45.40625 17.390625 45.40625 27.296875 \nQ 45.40625 37.203125 41.296875 42.84375 \nQ 37.203125 48.484375 30.078125 48.484375 \nQ 22.953125 48.484375 18.875 42.84375 \nQ 14.796875 37.203125 14.796875 27.296875 \nz\n\" id=\"DejaVuSans-100\"/>\n     <path d=\"M 45.40625 27.984375 \nQ 45.40625 37.75 41.375 43.109375 \nQ 37.359375 48.484375 30.078125 48.484375 \nQ 22.859375 48.484375 18.828125 43.109375 \nQ 14.796875 37.75 14.796875 27.984375 \nQ 14.796875 18.265625 18.828125 12.890625 \nQ 22.859375 7.515625 30.078125 7.515625 \nQ 37.359375 7.515625 41.375 12.890625 \nQ 45.40625 18.265625 45.40625 27.984375 \nz\nM 54.390625 6.78125 \nQ 54.390625 -7.171875 48.1875 -13.984375 \nQ 42 -20.796875 29.203125 -20.796875 \nQ 24.46875 -20.796875 20.265625 -20.09375 \nQ 16.0625 -19.390625 12.109375 -17.921875 \nL 12.109375 -9.1875 \nQ 16.0625 -11.328125 19.921875 -12.34375 \nQ 23.78125 -13.375 27.78125 -13.375 \nQ 36.625 -13.375 41.015625 -8.765625 \nQ 45.40625 -4.15625 45.40625 5.171875 \nL 45.40625 9.625 \nQ 42.625 4.78125 38.28125 2.390625 \nQ 33.9375 0 27.875 0 \nQ 17.828125 0 11.671875 7.65625 \nQ 5.515625 15.328125 5.515625 27.984375 \nQ 5.515625 40.671875 11.671875 48.328125 \nQ 17.828125 56 27.875 56 \nQ 33.9375 56 38.28125 53.609375 \nQ 42.625 51.21875 45.40625 46.390625 \nL 45.40625 54.6875 \nL 54.390625 54.6875 \nz\n\" id=\"DejaVuSans-103\"/>\n    </defs>\n    <g transform=\"translate(94.347188 16.318125)scale(0.12 -0.12)\">\n     <use xlink:href=\"#DejaVuSans-67\"/>\n     <use x=\"69.824219\" xlink:href=\"#DejaVuSans-111\"/>\n     <use x=\"131.005859\" xlink:href=\"#DejaVuSans-109\"/>\n     <use x=\"228.417969\" xlink:href=\"#DejaVuSans-112\"/>\n     <use x=\"291.894531\" xlink:href=\"#DejaVuSans-97\"/>\n     <use x=\"353.173828\" xlink:href=\"#DejaVuSans-114\"/>\n     <use x=\"394.287109\" xlink:href=\"#DejaVuSans-105\"/>\n     <use x=\"422.070312\" xlink:href=\"#DejaVuSans-115\"/>\n     <use x=\"474.169922\" xlink:href=\"#DejaVuSans-111\"/>\n     <use x=\"535.351562\" xlink:href=\"#DejaVuSans-110\"/>\n     <use x=\"598.730469\" xlink:href=\"#DejaVuSans-32\"/>\n     <use x=\"630.517578\" xlink:href=\"#DejaVuSans-111\"/>\n     <use x=\"691.699219\" xlink:href=\"#DejaVuSans-102\"/>\n     <use x=\"726.904297\" xlink:href=\"#DejaVuSans-32\"/>\n     <use x=\"758.691406\" xlink:href=\"#DejaVuSans-116\"/>\n     <use x=\"797.900391\" xlink:href=\"#DejaVuSans-104\"/>\n     <use x=\"861.279297\" xlink:href=\"#DejaVuSans-101\"/>\n     <use x=\"922.802734\" xlink:href=\"#DejaVuSans-32\"/>\n     <use x=\"954.589844\" xlink:href=\"#DejaVuSans-100\"/>\n     <use x=\"1018.066406\" xlink:href=\"#DejaVuSans-105\"/>\n     <use x=\"1045.849609\" xlink:href=\"#DejaVuSans-102\"/>\n     <use x=\"1081.054688\" xlink:href=\"#DejaVuSans-102\"/>\n     <use x=\"1116.259766\" xlink:href=\"#DejaVuSans-101\"/>\n     <use x=\"1177.783203\" xlink:href=\"#DejaVuSans-114\"/>\n     <use x=\"1216.646484\" xlink:href=\"#DejaVuSans-101\"/>\n     <use x=\"1278.169922\" xlink:href=\"#DejaVuSans-110\"/>\n     <use x=\"1341.548828\" xlink:href=\"#DejaVuSans-116\"/>\n     <use x=\"1380.757812\" xlink:href=\"#DejaVuSans-32\"/>\n     <use x=\"1412.544922\" xlink:href=\"#DejaVuSans-97\"/>\n     <use x=\"1473.824219\" xlink:href=\"#DejaVuSans-108\"/>\n     <use x=\"1501.607422\" xlink:href=\"#DejaVuSans-103\"/>\n     <use x=\"1565.083984\" xlink:href=\"#DejaVuSans-111\"/>\n     <use x=\"1626.265625\" xlink:href=\"#DejaVuSans-114\"/>\n     <use x=\"1667.378906\" xlink:href=\"#DejaVuSans-105\"/>\n     <use x=\"1695.162109\" xlink:href=\"#DejaVuSans-116\"/>\n     <use x=\"1734.371094\" xlink:href=\"#DejaVuSans-104\"/>\n     <use x=\"1797.75\" xlink:href=\"#DejaVuSans-109\"/>\n     <use x=\"1895.162109\" xlink:href=\"#DejaVuSans-115\"/>\n    </g>\n   </g>\n   <g id=\"legend_1\">\n    <g id=\"patch_7\">\n     <path d=\"M 275.210938 59.674375 \nL 371.58125 59.674375 \nQ 373.58125 59.674375 373.58125 57.674375 \nL 373.58125 29.318125 \nQ 373.58125 27.318125 371.58125 27.318125 \nL 275.210938 27.318125 \nQ 273.210938 27.318125 273.210938 29.318125 \nL 273.210938 57.674375 \nQ 273.210938 59.674375 275.210938 59.674375 \nz\n\" style=\"fill:#ffffff;opacity:0.8;stroke:#cccccc;stroke-linejoin:miter;\"/>\n    </g>\n    <g id=\"line2d_15\">\n     <path d=\"M 277.210938 35.416562 \nL 297.210938 35.416562 \n\" style=\"fill:none;stroke:#0000ff;stroke-linecap:square;\"/>\n    </g>\n    <g id=\"line2d_16\">\n     <g>\n      <use style=\"fill:#0000ff;stroke:#0000ff;\" x=\"287.210938\" xlink:href=\"#m749fdca68f\" y=\"35.416562\"/>\n     </g>\n    </g>\n    <g id=\"text_16\">\n     <!-- Jacobi -->\n     <defs>\n      <path d=\"M 9.8125 72.90625 \nL 19.671875 72.90625 \nL 19.671875 5.078125 \nQ 19.671875 -8.109375 14.671875 -14.0625 \nQ 9.671875 -20.015625 -1.421875 -20.015625 \nL -5.171875 -20.015625 \nL -5.171875 -11.71875 \nL -2.09375 -11.71875 \nQ 4.4375 -11.71875 7.125 -8.046875 \nQ 9.8125 -4.390625 9.8125 5.078125 \nz\n\" id=\"DejaVuSans-74\"/>\n      <path d=\"M 48.78125 52.59375 \nL 48.78125 44.1875 \nQ 44.96875 46.296875 41.140625 47.34375 \nQ 37.3125 48.390625 33.40625 48.390625 \nQ 24.65625 48.390625 19.8125 42.84375 \nQ 14.984375 37.3125 14.984375 27.296875 \nQ 14.984375 17.28125 19.8125 11.734375 \nQ 24.65625 6.203125 33.40625 6.203125 \nQ 37.3125 6.203125 41.140625 7.25 \nQ 44.96875 8.296875 48.78125 10.40625 \nL 48.78125 2.09375 \nQ 45.015625 0.34375 40.984375 -0.53125 \nQ 36.96875 -1.421875 32.421875 -1.421875 \nQ 20.0625 -1.421875 12.78125 6.34375 \nQ 5.515625 14.109375 5.515625 27.296875 \nQ 5.515625 40.671875 12.859375 48.328125 \nQ 20.21875 56 33.015625 56 \nQ 37.15625 56 41.109375 55.140625 \nQ 45.0625 54.296875 48.78125 52.59375 \nz\n\" id=\"DejaVuSans-99\"/>\n      <path d=\"M 48.6875 27.296875 \nQ 48.6875 37.203125 44.609375 42.84375 \nQ 40.53125 48.484375 33.40625 48.484375 \nQ 26.265625 48.484375 22.1875 42.84375 \nQ 18.109375 37.203125 18.109375 27.296875 \nQ 18.109375 17.390625 22.1875 11.75 \nQ 26.265625 6.109375 33.40625 6.109375 \nQ 40.53125 6.109375 44.609375 11.75 \nQ 48.6875 17.390625 48.6875 27.296875 \nz\nM 18.109375 46.390625 \nQ 20.953125 51.265625 25.265625 53.625 \nQ 29.59375 56 35.59375 56 \nQ 45.5625 56 51.78125 48.09375 \nQ 58.015625 40.1875 58.015625 27.296875 \nQ 58.015625 14.40625 51.78125 6.484375 \nQ 45.5625 -1.421875 35.59375 -1.421875 \nQ 29.59375 -1.421875 25.265625 0.953125 \nQ 20.953125 3.328125 18.109375 8.203125 \nL 18.109375 0 \nL 9.078125 0 \nL 9.078125 75.984375 \nL 18.109375 75.984375 \nz\n\" id=\"DejaVuSans-98\"/>\n     </defs>\n     <g transform=\"translate(305.210938 38.916562)scale(0.1 -0.1)\">\n      <use xlink:href=\"#DejaVuSans-74\"/>\n      <use x=\"29.492188\" xlink:href=\"#DejaVuSans-97\"/>\n      <use x=\"90.771484\" xlink:href=\"#DejaVuSans-99\"/>\n      <use x=\"145.751953\" xlink:href=\"#DejaVuSans-111\"/>\n      <use x=\"206.933594\" xlink:href=\"#DejaVuSans-98\"/>\n      <use x=\"270.410156\" xlink:href=\"#DejaVuSans-105\"/>\n     </g>\n    </g>\n    <g id=\"line2d_17\">\n     <path d=\"M 277.210938 50.094687 \nL 297.210938 50.094687 \n\" style=\"fill:none;stroke:#ff0000;stroke-linecap:square;stroke-width:2;\"/>\n    </g>\n    <g id=\"line2d_18\">\n     <g>\n      <use style=\"fill:#ff0000;stroke:#ff0000;\" x=\"287.210938\" xlink:href=\"#m59cd58c2fa\" y=\"50.094687\"/>\n     </g>\n    </g>\n    <g id=\"text_17\">\n     <!-- Gauss Seidel -->\n     <defs>\n      <path d=\"M 59.515625 10.40625 \nL 59.515625 29.984375 \nL 43.40625 29.984375 \nL 43.40625 38.09375 \nL 69.28125 38.09375 \nL 69.28125 6.78125 \nQ 63.578125 2.734375 56.6875 0.65625 \nQ 49.8125 -1.421875 42 -1.421875 \nQ 24.90625 -1.421875 15.25 8.5625 \nQ 5.609375 18.5625 5.609375 36.375 \nQ 5.609375 54.25 15.25 64.234375 \nQ 24.90625 74.21875 42 74.21875 \nQ 49.125 74.21875 55.546875 72.453125 \nQ 61.96875 70.703125 67.390625 67.28125 \nL 67.390625 56.78125 \nQ 61.921875 61.421875 55.765625 63.765625 \nQ 49.609375 66.109375 42.828125 66.109375 \nQ 29.4375 66.109375 22.71875 58.640625 \nQ 16.015625 51.171875 16.015625 36.375 \nQ 16.015625 21.625 22.71875 14.15625 \nQ 29.4375 6.6875 42.828125 6.6875 \nQ 48.046875 6.6875 52.140625 7.59375 \nQ 56.25 8.5 59.515625 10.40625 \nz\n\" id=\"DejaVuSans-71\"/>\n      <path d=\"M 8.5 21.578125 \nL 8.5 54.6875 \nL 17.484375 54.6875 \nL 17.484375 21.921875 \nQ 17.484375 14.15625 20.5 10.265625 \nQ 23.53125 6.390625 29.59375 6.390625 \nQ 36.859375 6.390625 41.078125 11.03125 \nQ 45.3125 15.671875 45.3125 23.6875 \nL 45.3125 54.6875 \nL 54.296875 54.6875 \nL 54.296875 0 \nL 45.3125 0 \nL 45.3125 8.40625 \nQ 42.046875 3.421875 37.71875 1 \nQ 33.40625 -1.421875 27.6875 -1.421875 \nQ 18.265625 -1.421875 13.375 4.4375 \nQ 8.5 10.296875 8.5 21.578125 \nz\nM 31.109375 56 \nz\n\" id=\"DejaVuSans-117\"/>\n      <path d=\"M 53.515625 70.515625 \nL 53.515625 60.890625 \nQ 47.90625 63.578125 42.921875 64.890625 \nQ 37.9375 66.21875 33.296875 66.21875 \nQ 25.25 66.21875 20.875 63.09375 \nQ 16.5 59.96875 16.5 54.203125 \nQ 16.5 49.359375 19.40625 46.890625 \nQ 22.3125 44.4375 30.421875 42.921875 \nL 36.375 41.703125 \nQ 47.40625 39.59375 52.65625 34.296875 \nQ 57.90625 29 57.90625 20.125 \nQ 57.90625 9.515625 50.796875 4.046875 \nQ 43.703125 -1.421875 29.984375 -1.421875 \nQ 24.8125 -1.421875 18.96875 -0.25 \nQ 13.140625 0.921875 6.890625 3.21875 \nL 6.890625 13.375 \nQ 12.890625 10.015625 18.65625 8.296875 \nQ 24.421875 6.59375 29.984375 6.59375 \nQ 38.421875 6.59375 43.015625 9.90625 \nQ 47.609375 13.234375 47.609375 19.390625 \nQ 47.609375 24.75 44.3125 27.78125 \nQ 41.015625 30.8125 33.5 32.328125 \nL 27.484375 33.5 \nQ 16.453125 35.6875 11.515625 40.375 \nQ 6.59375 45.0625 6.59375 53.421875 \nQ 6.59375 63.09375 13.40625 68.65625 \nQ 20.21875 74.21875 32.171875 74.21875 \nQ 37.3125 74.21875 42.625 73.28125 \nQ 47.953125 72.359375 53.515625 70.515625 \nz\n\" id=\"DejaVuSans-83\"/>\n     </defs>\n     <g transform=\"translate(305.210938 53.594687)scale(0.1 -0.1)\">\n      <use xlink:href=\"#DejaVuSans-71\"/>\n      <use x=\"77.490234\" xlink:href=\"#DejaVuSans-97\"/>\n      <use x=\"138.769531\" xlink:href=\"#DejaVuSans-117\"/>\n      <use x=\"202.148438\" xlink:href=\"#DejaVuSans-115\"/>\n      <use x=\"254.248047\" xlink:href=\"#DejaVuSans-115\"/>\n      <use x=\"306.347656\" xlink:href=\"#DejaVuSans-32\"/>\n      <use x=\"338.134766\" xlink:href=\"#DejaVuSans-83\"/>\n      <use x=\"401.611328\" xlink:href=\"#DejaVuSans-101\"/>\n      <use x=\"463.134766\" xlink:href=\"#DejaVuSans-105\"/>\n      <use x=\"490.917969\" xlink:href=\"#DejaVuSans-100\"/>\n      <use x=\"554.394531\" xlink:href=\"#DejaVuSans-101\"/>\n      <use x=\"615.917969\" xlink:href=\"#DejaVuSans-108\"/>\n     </g>\n    </g>\n   </g>\n  </g>\n </g>\n <defs>\n  <clipPath id=\"p3c746303c0\">\n   <rect height=\"217.44\" width=\"334.8\" x=\"43.78125\" y=\"22.318125\"/>\n  </clipPath>\n </defs>\n</svg>\n",
            "image/png": "[encoded data removed]"
          },
          "metadata": {
            "needs_background": "light"
          }
        }
      ]
    },
    {
      "cell_type": "code",
      "execution_count": null,
      "metadata": {},
      "outputs": [],
      "source": []
    }
  ]
}